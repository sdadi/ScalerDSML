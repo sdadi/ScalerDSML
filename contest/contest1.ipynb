{
 "cells": [
  {
   "cell_type": "code",
   "execution_count": null,
   "id": "cd1b10d7",
   "metadata": {},
   "outputs": [],
   "source": [
    "import numpy as np\n",
    "import pandas as pd\n",
    "import matplotlib.pyplot as plt\n",
    "import seaborn as sns"
   ]
  },
  {
   "cell_type": "code",
   "execution_count": 2,
   "id": "255cf3a8",
   "metadata": {},
   "outputs": [],
   "source": [
    "import numpy as np\n",
    "import pandas as pd\n",
    "import matplotlib.pyplot as plt\n",
    "import seaborn as sns"
   ]
  },
  {
   "cell_type": "code",
   "execution_count": 11,
   "id": "125bfdd6",
   "metadata": {},
   "outputs": [
    {
     "name": "stdout",
     "output_type": "stream",
     "text": [
      "[[100 104 108 112]\n",
      " [101 105 109 113]\n",
      " [102 106 110 114]\n",
      " [103 107 111 115]]\n",
      "109.0 106.0 107.0 108.0\n"
     ]
    }
   ],
   "source": [
    "a = np.arange(100,116)\n",
    "a = a.reshape(4,4)\n",
    "a = a.T\n",
    "x = a[3].mean()\n",
    "e = a[0].mean()\n",
    "f = a[1].mean()\n",
    "g = a[2].mean()\n",
    "print(a)\n",
    "print(x,e,f,g)"
   ]
  },
  {
   "cell_type": "code",
   "execution_count": 13,
   "id": "10525d9f",
   "metadata": {},
   "outputs": [
    {
     "name": "stdout",
     "output_type": "stream",
     "text": [
      "[[ 17  47  23  97   8]\n",
      " [ 95  35  47 100  68]\n",
      " [ 42  11  33  44  70]\n",
      " [ 81  26  54  86  66]\n",
      " [ 57  42  21  58  16]]\n",
      "[[1 1 1 1 1]\n",
      " [1 1 1 1 0]\n",
      " [1 1 1 1 0]\n",
      " [1 1 0 1 0]\n",
      " [0 1 1 0 1]]\n"
     ]
    }
   ],
   "source": [
    "array = np.random.randint(1,101,size=(5,5))\n",
    "print(array)\n",
    "array[(array > 50) & (array <80)] = 0\n",
    "array[array != 0] = 1\n",
    "print(array)"
   ]
  },
  {
   "cell_type": "code",
   "execution_count": null,
   "id": "2cd3187b",
   "metadata": {
    "vscode": {
     "languageId": "lua"
    }
   },
   "outputs": [
    {
     "name": "stdout",
     "output_type": "stream",
     "text": [
      "[ 1  2  3  4  5  6  7  8  9 10]\n",
      "[4 8]\n",
      "[ 5 10]\n"
     ]
    }
   ],
   "source": [
    "a = np.arange(1,11)\n",
    "print(a)\n",
    "a4 = a[a%4==0]\n",
    "a5 = a[a%5==0]\n",
    "print(a4)\n",
    "print(a5)\n"
   ]
  },
  {
   "cell_type": "code",
   "execution_count": 15,
   "id": "4c40c127",
   "metadata": {},
   "outputs": [
    {
     "data": {
      "text/plain": [
       "array([[ 4,  5],\n",
       "       [ 8, 10]])"
      ]
     },
     "execution_count": 15,
     "metadata": {},
     "output_type": "execute_result"
    }
   ],
   "source": [
    "result = np.array([[4,8],[5,10]])\n",
    "result.T"
   ]
  },
  {
   "cell_type": "code",
   "execution_count": 21,
   "id": "1fdbdf70",
   "metadata": {},
   "outputs": [
    {
     "data": {
      "text/plain": [
       "0       02/20\n",
       "1       11/18\n",
       "2       08/19\n",
       "3       02/24\n",
       "4       10/25\n",
       "        ...  \n",
       "9995    03/22\n",
       "9996    07/25\n",
       "9997    05/21\n",
       "9998    11/17\n",
       "9999    02/19\n",
       "Name: CC Exp Date, Length: 10000, dtype: object"
      ]
     },
     "execution_count": 21,
     "metadata": {},
     "output_type": "execute_result"
    }
   ],
   "source": [
    "p = pd.read_csv(\"Ecommerce_Purchases.csv\")\n",
    "# p['ExpY'] = pd.to_datetime(p['CC Exp Date']).dt.year\n",
    "p['CC Exp Date']"
   ]
  },
  {
   "cell_type": "code",
   "execution_count": 23,
   "id": "005a94a8",
   "metadata": {},
   "outputs": [
    {
     "ename": "SyntaxError",
     "evalue": "positional argument follows keyword argument (4133346945.py, line 2)",
     "output_type": "error",
     "traceback": [
      "  \u001b[36mCell\u001b[39m\u001b[36m \u001b[39m\u001b[32mIn[23]\u001b[39m\u001b[32m, line 2\u001b[39m\n\u001b[31m    \u001b[39m\u001b[31mfig, ax = plt.subplots(2,2,figsize=6,4)\u001b[39m\n                                          ^\n\u001b[31mSyntaxError\u001b[39m\u001b[31m:\u001b[39m positional argument follows keyword argument\n"
     ]
    }
   ],
   "source": [
    "fp = {\"Almond butter\":10,\"Blueberries\":5,'Eggs':6}\n",
    "fig, ax = plt.subplots(2,2,figsize=6,4)\n",
    "ax[2,1].bar(fp.keys(),fp.values())\n",
    "plt.show()"
   ]
  },
  {
   "cell_type": "code",
   "execution_count": 31,
   "id": "fe77cce1",
   "metadata": {},
   "outputs": [
    {
     "name": "stdout",
     "output_type": "stream",
     "text": [
      "15.25\n",
      "regiment\n",
      "Dragoons      15.50\n",
      "Nighthawks    15.25\n",
      "Scouts         2.50\n",
      "Name: preTestScore, dtype: float64\n"
     ]
    }
   ],
   "source": [
    "raw_data = {'regiment': ['Nighthawks', 'Nighthawks', 'Nighthawks', 'Nighthawks', 'Dragoons', 'Dragoons', 'Dragoons', 'Dragoons', 'Scouts', 'Scouts', 'Scouts', 'Scouts'], \n",
    " 'company': ['1st', '1st', '2nd', '2nd', '1st', '1st', '2nd', '2nd','1st', '1st', '2nd', '2nd'], \n",
    " 'name': ['Miller', 'Jacobson', 'Ali', 'Milner', 'Cooze', 'Jacon', 'Ryaner', 'Sone', 'Sloan', 'Piger', 'Riani', 'Ali'], \n",
    " 'preTestScore': [4, 24, 31, 2, 3, 4, 24, 31, 2, 3, 2, 3],\n",
    " 'postTestScore': [25, 94, 57, 62, 70, 25, 94, 57, 62, 70, 62, 70]}\n",
    "\n",
    "df= pd.DataFrame(raw_data)\n",
    "# print(df)\n",
    "print(df[df['regiment'] == 'Nighthawks']['preTestScore'].mean())\n",
    "print(df.groupby('regiment')['preTestScore'].mean())\n"
   ]
  }
 ],
 "metadata": {
  "kernelspec": {
   "display_name": "Python 3",
   "language": "python",
   "name": "python3"
  },
  "language_info": {
   "codemirror_mode": {
    "name": "ipython",
    "version": 3
   },
   "file_extension": ".py",
   "mimetype": "text/x-python",
   "name": "python",
   "nbconvert_exporter": "python",
   "pygments_lexer": "ipython3",
   "version": "3.13.3"
  }
 },
 "nbformat": 4,
 "nbformat_minor": 5
}
