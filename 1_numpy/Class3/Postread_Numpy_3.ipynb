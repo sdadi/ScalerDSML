{
  "cells": [
    {
      "cell_type": "markdown",
      "metadata": {
        "colab_type": "text",
        "id": "view-in-github"
      },
      "source": [
        "<a href=\"https://colab.research.google.com/github/sdadi/ScalerDSML/blob/main/1_numpy/Class3/Postread_Numpy_3.ipynb\" target=\"_parent\"><img src=\"https://colab.research.google.com/assets/colab-badge.svg\" alt=\"Open In Colab\"/></a>"
      ]
    },
    {
      "cell_type": "markdown",
      "metadata": {
        "id": "BOVdb1cR_h98"
      },
      "source": [
        "# Numpy 3"
      ]
    },
    {
      "cell_type": "markdown",
      "metadata": {
        "id": "au-iScMY_KLD"
      },
      "source": [
        "## **Content**\n",
        "\n",
        "- Matrix Multiplication\n",
        "  - `np.dot`\n",
        "  - `@` operator\n",
        "  - `np.matmul`\n",
        "- **Shallow vs Deep Copy**\n",
        "  - `view()`\n",
        "  - `copy()`\n",
        "  - `deepcopy()`\n",
        "- **Array Splitting**\n",
        "  - `split()`\n",
        "  - `hsplit()`\n",
        "  - `vsplit()`\n",
        "- **Array Stacking**\n",
        "  - `hstack()`\n",
        "  - `vstack()`\n",
        "  - `concatenate()`\n",
        "\n",
        "\n",
        "---"
      ]
    },
    {
      "cell_type": "code",
      "execution_count": null,
      "metadata": {
        "id": "bwECzS8XB-Re"
      },
      "outputs": [],
      "source": [
        "import numpy as np"
      ]
    },
    {
      "cell_type": "markdown",
      "metadata": {
        "id": "9QbKx3uJKzPG"
      },
      "source": [
        "## **Element-Wise Multiplication**\n",
        "\n",
        "Element-wise multiplication in NumPy involves multiplying corresponding elements of two arrays with the same shape to produce a new array where each element is the product of the corresponding elements from the input arrays."
      ]
    },
    {
      "cell_type": "code",
      "execution_count": null,
      "metadata": {
        "colab": {
          "base_uri": "https://localhost:8080/"
        },
        "id": "NrshPFhfKeuf",
        "outputId": "1a677455-dc8f-4616-8413-add50c1c6ca9"
      },
      "outputs": [
        {
          "data": {
            "text/plain": [
              "array([1, 2, 3, 4, 5])"
            ]
          },
          "execution_count": 2,
          "metadata": {},
          "output_type": "execute_result"
        }
      ],
      "source": [
        "a = np.arange(1, 6)\n",
        "a"
      ]
    },
    {
      "cell_type": "code",
      "execution_count": null,
      "metadata": {
        "colab": {
          "base_uri": "https://localhost:8080/"
        },
        "id": "Qw1_cYgaKpEu",
        "outputId": "d9c49458-5993-4f00-fc21-dbd0e6700952"
      },
      "outputs": [
        {
          "data": {
            "text/plain": [
              "array([ 5, 10, 15, 20, 25])"
            ]
          },
          "execution_count": 3,
          "metadata": {},
          "output_type": "execute_result"
        }
      ],
      "source": [
        "a * 5"
      ]
    },
    {
      "cell_type": "code",
      "execution_count": null,
      "metadata": {
        "colab": {
          "base_uri": "https://localhost:8080/"
        },
        "id": "6ER0quTLKvO7",
        "outputId": "ebbf0a0c-3f18-4655-ab4a-3044afdd6487"
      },
      "outputs": [
        {
          "data": {
            "text/plain": [
              "array([ 6,  7,  8,  9, 10])"
            ]
          },
          "execution_count": 4,
          "metadata": {},
          "output_type": "execute_result"
        }
      ],
      "source": [
        "b = np.arange(6, 11)\n",
        "b"
      ]
    },
    {
      "cell_type": "code",
      "execution_count": null,
      "metadata": {
        "colab": {
          "base_uri": "https://localhost:8080/"
        },
        "id": "Pz5cMkxWLqVU",
        "outputId": "f6a5477f-acb8-4e35-fada-1808b1017b4c"
      },
      "outputs": [
        {
          "data": {
            "text/plain": [
              "array([ 6, 14, 24, 36, 50])"
            ]
          },
          "execution_count": 5,
          "metadata": {},
          "output_type": "execute_result"
        }
      ],
      "source": [
        "a * b"
      ]
    },
    {
      "cell_type": "markdown",
      "metadata": {
        "id": "ICaPeUjVEgTA"
      },
      "source": [
        "Both arrays should have the same shape."
      ]
    },
    {
      "cell_type": "code",
      "execution_count": null,
      "metadata": {
        "id": "Pcb8lQhI5ozK"
      },
      "outputs": [],
      "source": [
        "c = np.array([1, 2, 3])"
      ]
    },
    {
      "cell_type": "code",
      "execution_count": null,
      "metadata": {
        "colab": {
          "base_uri": "https://localhost:8080/",
          "height": 141
        },
        "id": "GiiN49Vc5rPZ",
        "outputId": "3ca182cd-c8dc-4c57-84d0-e36b2c3ae3c6"
      },
      "outputs": [
        {
          "ename": "ValueError",
          "evalue": "operands could not be broadcast together with shapes (5,) (3,) ",
          "output_type": "error",
          "traceback": [
            "\u001b[0;31m---------------------------------------------------------------------------\u001b[0m",
            "\u001b[0;31mValueError\u001b[0m                                Traceback (most recent call last)",
            "\u001b[0;32m<ipython-input-7-3f6f667472ca>\u001b[0m in \u001b[0;36m<cell line: 0>\u001b[0;34m()\u001b[0m\n\u001b[0;32m----> 1\u001b[0;31m \u001b[0ma\u001b[0m \u001b[0;34m*\u001b[0m \u001b[0mc\u001b[0m\u001b[0;34m\u001b[0m\u001b[0;34m\u001b[0m\u001b[0m\n\u001b[0m",
            "\u001b[0;31mValueError\u001b[0m: operands could not be broadcast together with shapes (5,) (3,) "
          ]
        }
      ],
      "source": [
        "a * c"
      ]
    },
    {
      "cell_type": "code",
      "execution_count": null,
      "metadata": {
        "id": "3w3PAxow5tzt"
      },
      "outputs": [],
      "source": [
        "d = np.arange(12).reshape(3, 4)\n",
        "e = np.arange(13, 25).reshape(3, 4)"
      ]
    },
    {
      "cell_type": "code",
      "execution_count": null,
      "metadata": {
        "colab": {
          "base_uri": "https://localhost:8080/"
        },
        "id": "ZZjT2qkD5viK",
        "outputId": "f07350aa-cb7a-45ad-db13-ea87fbdce494"
      },
      "outputs": [
        {
          "name": "stdout",
          "output_type": "stream",
          "text": [
            "[[ 0  1  2  3]\n",
            " [ 4  5  6  7]\n",
            " [ 8  9 10 11]]\n",
            "[[13 14 15 16]\n",
            " [17 18 19 20]\n",
            " [21 22 23 24]]\n"
          ]
        }
      ],
      "source": [
        "print(d)\n",
        "print(e)"
      ]
    },
    {
      "cell_type": "code",
      "execution_count": null,
      "metadata": {
        "colab": {
          "base_uri": "https://localhost:8080/"
        },
        "id": "Ilm_EJ8L5yme",
        "outputId": "ea813991-da31-495c-a99e-b2c6b6d693b2"
      },
      "outputs": [
        {
          "data": {
            "text/plain": [
              "array([[  0,  14,  30,  48],\n",
              "       [ 68,  90, 114, 140],\n",
              "       [168, 198, 230, 264]])"
            ]
          },
          "execution_count": 10,
          "metadata": {},
          "output_type": "execute_result"
        }
      ],
      "source": [
        "d * e"
      ]
    },
    {
      "cell_type": "markdown",
      "metadata": {
        "id": "DL9f29u252MO"
      },
      "source": [
        "**Takeaway:**\n",
        "\n",
        "- Array * Number -> WORKS\n",
        "- Array * Array (same shape) -> WORKS\n",
        "- Array * Array (different shape) -> DOES NOT WORK"
      ]
    },
    {
      "cell_type": "markdown",
      "metadata": {
        "id": "l08yMuKuENwn"
      },
      "source": [
        "---"
      ]
    },
    {
      "cell_type": "markdown",
      "metadata": {
        "id": "ocyIHMjIL-uC"
      },
      "source": [
        "## **Matrix Multiplication**\n",
        "\n",
        "**Rule:** Number of columns of the first matrix should be equal to number of rows of the second matrix.\n",
        "\n",
        "- (A,B) * (B,C) -> (A,C)\n",
        "- (3,4) * (4,3) -> (3,3)\n",
        "\n",
        "Visual Demo: https://www.geogebra.org/m/ETHXK756"
      ]
    },
    {
      "cell_type": "code",
      "execution_count": null,
      "metadata": {
        "id": "triLheBILQvd"
      },
      "outputs": [],
      "source": [
        "a = np.arange(1,13).reshape((3,4))\n",
        "c = np.arange(2,14).reshape((4,3))"
      ]
    },
    {
      "cell_type": "code",
      "execution_count": null,
      "metadata": {
        "colab": {
          "base_uri": "https://localhost:8080/"
        },
        "id": "c3Gx9A4ejZ30",
        "outputId": "33eec08b-ffcf-4b56-dbcf-c735c6259da6"
      },
      "outputs": [
        {
          "data": {
            "text/plain": [
              "((3, 4), (4, 3))"
            ]
          },
          "execution_count": 12,
          "metadata": {},
          "output_type": "execute_result"
        }
      ],
      "source": [
        "a.shape, c.shape"
      ]
    },
    {
      "cell_type": "markdown",
      "metadata": {
        "id": "ageooD6HNAms"
      },
      "source": [
        "##### `a` is of shape (3,4) and `c` is of shape (4,3). The output will be of shape (3,3)."
      ]
    },
    {
      "cell_type": "code",
      "execution_count": null,
      "metadata": {
        "colab": {
          "base_uri": "https://localhost:8080/"
        },
        "id": "uoWGXIw9LbMa",
        "outputId": "a435458e-3760-4c98-c3d7-186c7db7d07e"
      },
      "outputs": [
        {
          "data": {
            "text/plain": [
              "array([[ 80,  90, 100],\n",
              "       [184, 210, 236],\n",
              "       [288, 330, 372]])"
            ]
          },
          "execution_count": 13,
          "metadata": {},
          "output_type": "execute_result"
        }
      ],
      "source": [
        "# Using np.dot\n",
        "np.dot(a,c)"
      ]
    },
    {
      "cell_type": "code",
      "execution_count": null,
      "metadata": {
        "colab": {
          "base_uri": "https://localhost:8080/"
        },
        "id": "jHyd3mMhNh3e",
        "outputId": "e31bcdea-5a6e-4adb-8f58-120a35e87c81"
      },
      "outputs": [
        {
          "data": {
            "text/plain": [
              "array([[ 80,  90, 100],\n",
              "       [184, 210, 236],\n",
              "       [288, 330, 372]])"
            ]
          },
          "execution_count": 14,
          "metadata": {},
          "output_type": "execute_result"
        }
      ],
      "source": [
        "# Using np.matmul\n",
        "np.matmul(a,c)"
      ]
    },
    {
      "cell_type": "code",
      "execution_count": null,
      "metadata": {
        "colab": {
          "base_uri": "https://localhost:8080/"
        },
        "id": "IWa6beM0LiNp",
        "outputId": "3cc8462f-7914-43a9-d80d-a98caf087d0c"
      },
      "outputs": [
        {
          "data": {
            "text/plain": [
              "array([[ 80,  90, 100],\n",
              "       [184, 210, 236],\n",
              "       [288, 330, 372]])"
            ]
          },
          "execution_count": 15,
          "metadata": {},
          "output_type": "execute_result"
        }
      ],
      "source": [
        "# Using @ operator\n",
        "a@c"
      ]
    },
    {
      "cell_type": "markdown",
      "metadata": {
        "id": "hAqOcqNeFYCB"
      },
      "source": [
        "---"
      ]
    },
    {
      "cell_type": "code",
      "execution_count": null,
      "metadata": {
        "colab": {
          "base_uri": "https://localhost:8080/",
          "height": 141
        },
        "id": "fDa13H1F6OIx",
        "outputId": "7cef4287-c3c2-4570-e337-f642fb41d6b0"
      },
      "outputs": [
        {
          "ename": "ValueError",
          "evalue": "matmul: Input operand 1 does not have enough dimensions (has 0, gufunc core with signature (n?,k),(k,m?)->(n?,m?) requires 1)",
          "output_type": "error",
          "traceback": [
            "\u001b[0;31m---------------------------------------------------------------------------\u001b[0m",
            "\u001b[0;31mValueError\u001b[0m                                Traceback (most recent call last)",
            "\u001b[0;32m<ipython-input-16-16572c98568d>\u001b[0m in \u001b[0;36m<cell line: 0>\u001b[0;34m()\u001b[0m\n\u001b[0;32m----> 1\u001b[0;31m \u001b[0ma\u001b[0m\u001b[0;34m@\u001b[0m\u001b[0;36m5\u001b[0m\u001b[0;34m\u001b[0m\u001b[0;34m\u001b[0m\u001b[0m\n\u001b[0m",
            "\u001b[0;31mValueError\u001b[0m: matmul: Input operand 1 does not have enough dimensions (has 0, gufunc core with signature (n?,k),(k,m?)->(n?,m?) requires 1)"
          ]
        }
      ],
      "source": [
        "a@5"
      ]
    },
    {
      "cell_type": "code",
      "execution_count": null,
      "metadata": {
        "colab": {
          "base_uri": "https://localhost:8080/",
          "height": 141
        },
        "id": "KVQLqvoY6Rv-",
        "outputId": "95883e6c-a8cb-476c-ef93-196aa6677b2a"
      },
      "outputs": [
        {
          "ename": "ValueError",
          "evalue": "matmul: Input operand 1 does not have enough dimensions (has 0, gufunc core with signature (n?,k),(k,m?)->(n?,m?) requires 1)",
          "output_type": "error",
          "traceback": [
            "\u001b[0;31m---------------------------------------------------------------------------\u001b[0m",
            "\u001b[0;31mValueError\u001b[0m                                Traceback (most recent call last)",
            "\u001b[0;32m<ipython-input-17-875bf147741b>\u001b[0m in \u001b[0;36m<cell line: 0>\u001b[0;34m()\u001b[0m\n\u001b[0;32m----> 1\u001b[0;31m \u001b[0mnp\u001b[0m\u001b[0;34m.\u001b[0m\u001b[0mmatmul\u001b[0m\u001b[0;34m(\u001b[0m\u001b[0ma\u001b[0m\u001b[0;34m,\u001b[0m \u001b[0;36m5\u001b[0m\u001b[0;34m)\u001b[0m\u001b[0;34m\u001b[0m\u001b[0;34m\u001b[0m\u001b[0m\n\u001b[0m",
            "\u001b[0;31mValueError\u001b[0m: matmul: Input operand 1 does not have enough dimensions (has 0, gufunc core with signature (n?,k),(k,m?)->(n?,m?) requires 1)"
          ]
        }
      ],
      "source": [
        "np.matmul(a, 5)"
      ]
    },
    {
      "cell_type": "code",
      "execution_count": null,
      "metadata": {
        "colab": {
          "base_uri": "https://localhost:8080/"
        },
        "id": "cxXkSyod6WLE",
        "outputId": "b34aac7e-4c4f-47b1-e863-8075ea90afa1"
      },
      "outputs": [
        {
          "data": {
            "text/plain": [
              "array([[ 5, 10, 15, 20],\n",
              "       [25, 30, 35, 40],\n",
              "       [45, 50, 55, 60]])"
            ]
          },
          "execution_count": 18,
          "metadata": {},
          "output_type": "execute_result"
        }
      ],
      "source": [
        "np.dot(a, 5)"
      ]
    },
    {
      "cell_type": "markdown",
      "metadata": {
        "id": "tAan0L08ie_j"
      },
      "source": [
        "**Important:**\n",
        "\n",
        "- `dot()` function supports the vector multiplication with a scalar value, which is not possible with `matmul()`.\n",
        "- `Vector * Vector` will work for `matmul()` but `Vector * Scalar` won't."
      ]
    },
    {
      "cell_type": "markdown",
      "metadata": {
        "id": "cIfmIBKgWa2u"
      },
      "source": [
        "---"
      ]
    },
    {
      "cell_type": "markdown",
      "metadata": {
        "id": "55aqxuW0NaA3"
      },
      "source": [
        "## **Views vs Copies (Shallow vs Deep Copy)**\n",
        "\n",
        "- Numpy **manages memory very efficiently**,\n",
        "- which makes it really **useful while dealing with large datasets**.\n",
        "\n",
        "**But how does it manage memory so efficiently?**\n",
        "\n",
        "- Let's create some arrays to understand what's happens while using numpy."
      ]
    },
    {
      "cell_type": "markdown",
      "metadata": {
        "id": "atnpIacrDs1d"
      },
      "source": [
        "When we copy a NumPy array, sometimes we want changes in one array to reflect in the other, sometimes not.\n",
        "\n",
        "Whether memory is shared or not determines the behavior of your code — critical for debugging, memory optimization, and performance."
      ]
    },
    {
      "cell_type": "markdown",
      "metadata": {
        "id": "Dd9WSeGQDwE9"
      },
      "source": [
        "### Shallow Copy using `view()`"
      ]
    },
    {
      "cell_type": "markdown",
      "metadata": {
        "id": "_Goeq_EUUS6H"
      },
      "source": [
        "#### `.view()`\n",
        "\n",
        "- Returns view of the original array.\n",
        "- Any changes made in new array will be reflected in original array.\n",
        "\n",
        "Documentation: https://numpy.org/doc/stable/reference/generated/numpy.ndarray.view.html\n",
        "\n"
      ]
    },
    {
      "cell_type": "code",
      "execution_count": null,
      "metadata": {
        "id": "ouv74HqbD2R5"
      },
      "outputs": [],
      "source": [
        "import numpy as np\n",
        "\n",
        "a = np.array([10, 20, 30, 40])\n",
        "b = a.view()  # Shallow copy"
      ]
    },
    {
      "cell_type": "markdown",
      "metadata": {
        "id": "z_6QDqhFD4pX"
      },
      "source": [
        "- b is a new object\n",
        "- But it still shares the same data buffer as a"
      ]
    },
    {
      "cell_type": "code",
      "execution_count": null,
      "metadata": {
        "colab": {
          "base_uri": "https://localhost:8080/"
        },
        "id": "5mpC4_QSD9GL",
        "outputId": "39fee576-d057-43b6-bfea-f0878a03e8a6"
      },
      "outputs": [
        {
          "name": "stdout",
          "output_type": "stream",
          "text": [
            "a: [100  20  30  40]\n",
            "b: [100  20  30  40]\n"
          ]
        }
      ],
      "source": [
        "b[0] = 100\n",
        "print(\"a:\", a)  # a[0] changes to 100\n",
        "print(\"b:\", b)"
      ]
    },
    {
      "cell_type": "markdown",
      "metadata": {
        "id": "nkQCswxZEB88"
      },
      "source": [
        " Changes in b reflect in a because both share the same memory."
      ]
    },
    {
      "cell_type": "markdown",
      "metadata": {
        "id": "9Pn2bXGTEEmq"
      },
      "source": [
        "To check if memory is shared:"
      ]
    },
    {
      "cell_type": "code",
      "execution_count": null,
      "metadata": {
        "colab": {
          "base_uri": "https://localhost:8080/"
        },
        "id": "ys8y_jjQEERU",
        "outputId": "85031586-1147-4a5b-aa9f-35f8b6bfd4ff"
      },
      "outputs": [
        {
          "data": {
            "text/plain": [
              "True"
            ]
          },
          "execution_count": 26,
          "metadata": {},
          "output_type": "execute_result"
        }
      ],
      "source": [
        "np.shares_memory(a, b)  # Output: True"
      ]
    },
    {
      "cell_type": "markdown",
      "metadata": {
        "id": "icSblfs4EQuZ"
      },
      "source": [
        "`view()` is useful when you want a new view of the same data (maybe a different shape), but not a full copy."
      ]
    },
    {
      "cell_type": "markdown",
      "metadata": {
        "id": "vAPMl_ccEU9y"
      },
      "source": [
        "---"
      ]
    },
    {
      "cell_type": "markdown",
      "metadata": {
        "id": "KXIyxRMfUw4R"
      },
      "source": [
        "#### `.copy()`\n",
        "\n",
        "- Returns a copy of the array.\n",
        "- Changes made in new array are not reflected in the original array.\n",
        "\n",
        "Documentation (`.copy()`): https://numpy.org/doc/stable/reference/generated/numpy.ndarray.copy.html#numpy.ndarray.copy\n",
        "\n",
        "Documentation: (`np.copy()`): https://numpy.org/doc/stable/reference/generated/numpy.copy.html"
      ]
    },
    {
      "cell_type": "code",
      "execution_count": null,
      "metadata": {
        "id": "IiKASC97EBlo"
      },
      "outputs": [],
      "source": [
        "a = np.array([10, 20, 30, 40])\n",
        "b = a.copy()  #  copy"
      ]
    },
    {
      "cell_type": "markdown",
      "metadata": {
        "id": "oS_KiPZsEkhj"
      },
      "source": [
        "b is a completely new array with its own memory"
      ]
    },
    {
      "cell_type": "code",
      "execution_count": null,
      "metadata": {
        "colab": {
          "base_uri": "https://localhost:8080/"
        },
        "id": "odFREZIeEi6i",
        "outputId": "b9b50871-8862-40ad-a722-1716c66c0d33"
      },
      "outputs": [
        {
          "name": "stdout",
          "output_type": "stream",
          "text": [
            "a: [10 20 30 40]\n",
            "b: [999  20  30  40]\n"
          ]
        }
      ],
      "source": [
        "b[0] = 999\n",
        "print(\"a:\", a)  # a is unchanged\n",
        "print(\"b:\", b)"
      ]
    },
    {
      "cell_type": "markdown",
      "metadata": {
        "id": "VQAtR52uEobD"
      },
      "source": [
        "Check memory sharing:"
      ]
    },
    {
      "cell_type": "code",
      "execution_count": null,
      "metadata": {
        "colab": {
          "base_uri": "https://localhost:8080/"
        },
        "id": "Smn8fL1rEpiF",
        "outputId": "59771356-465c-4318-84f3-53ff27c88a0d"
      },
      "outputs": [
        {
          "data": {
            "text/plain": [
              "False"
            ]
          },
          "execution_count": 29,
          "metadata": {},
          "output_type": "execute_result"
        }
      ],
      "source": [
        "np.shares_memory(a, b)  # Output: False"
      ]
    },
    {
      "cell_type": "markdown",
      "metadata": {
        "id": "tDOyHN-dEsWq"
      },
      "source": [
        "`copy()` is safer when you want to modify a copy without affecting the original array."
      ]
    },
    {
      "cell_type": "markdown",
      "metadata": {
        "id": "Ow38jhk6Tvg5"
      },
      "source": [
        "---"
      ]
    },
    {
      "cell_type": "markdown",
      "metadata": {
        "id": "P16drlNXVs_Q"
      },
      "source": [
        "### What are object arrays?\n",
        "\n",
        "- Object arrays are basically array of any Python datatype.\n",
        "\n",
        "Documentation: https://numpy.org/devdocs/reference/arrays.scalars.html#numpy.object"
      ]
    },
    {
      "cell_type": "code",
      "execution_count": null,
      "metadata": {
        "colab": {
          "base_uri": "https://localhost:8080/"
        },
        "id": "Oz9s1FzLU_kg",
        "outputId": "8e707e00-0d5e-440c-a790-8bf81d1b886c"
      },
      "outputs": [
        {
          "data": {
            "text/plain": [
              "array([1, 'm', list([1, 2, 3])], dtype=object)"
            ]
          },
          "execution_count": 33,
          "metadata": {},
          "output_type": "execute_result"
        }
      ],
      "source": [
        "arr = np.array([1, 'm', [1,2,3]], dtype = 'object')\n",
        "arr"
      ]
    },
    {
      "cell_type": "markdown",
      "metadata": {
        "id": "Bh8b879bVgt0"
      },
      "source": [
        "There is an exception to `.copy()`:\n",
        "- **`.copy()` behaves as shallow copy when using `dtype='object'` array**.\n",
        "- It will not copy object elements within arrays."
      ]
    },
    {
      "cell_type": "markdown",
      "metadata": {
        "id": "YcqFdjX6W8Lx"
      },
      "source": [
        "#### But arrays are supposed to be homogeous data. How is it storing data of various types?\n",
        "\n",
        "Remember that everything is object in Python.\n",
        "\n",
        "Just like Python list,\n",
        "- The data actually **stored** in object arrays are **references to Python objects**, not the objects themselves.\n",
        "\n",
        "Hence, their elements need not be of the same Python type.\n",
        "\n",
        "**As every element in array is an object, therefore the dtype=object.**"
      ]
    },
    {
      "cell_type": "markdown",
      "metadata": {
        "id": "TfarCBPyW-mf"
      },
      "source": [
        "<img src=\"https://d2beiqkhq929f0.cloudfront.net/public_assets/assets/000/065/263/original/img.png?1708017404\" width=\"700\" height=\"100\">"
      ]
    },
    {
      "cell_type": "markdown",
      "metadata": {
        "id": "mWDFsb5iXBg_"
      },
      "source": [
        "Let's make a copy of object array and check whether it returns a shallow copy or deep copy."
      ]
    },
    {
      "cell_type": "code",
      "execution_count": null,
      "metadata": {
        "id": "RRUQXI9gV12U"
      },
      "outputs": [],
      "source": [
        "copy_arr = arr.copy()"
      ]
    },
    {
      "cell_type": "code",
      "execution_count": null,
      "metadata": {
        "colab": {
          "base_uri": "https://localhost:8080/"
        },
        "id": "n_ULB6UkXEGX",
        "outputId": "60a80bbd-d2ec-45e9-ef6a-3efa481a34ee"
      },
      "outputs": [
        {
          "data": {
            "text/plain": [
              "array([1, 'm', list([1, 2, 3])], dtype=object)"
            ]
          },
          "execution_count": 35,
          "metadata": {},
          "output_type": "execute_result"
        }
      ],
      "source": [
        "copy_arr"
      ]
    },
    {
      "cell_type": "markdown",
      "metadata": {
        "id": "Y2ERIA6nXIy3"
      },
      "source": [
        "Now, let's try to modify the list elements in `copy_arr`."
      ]
    },
    {
      "cell_type": "code",
      "execution_count": null,
      "metadata": {
        "id": "auIFTAt1XFp9"
      },
      "outputs": [],
      "source": [
        "copy_arr[2][0] = 999"
      ]
    },
    {
      "cell_type": "code",
      "execution_count": null,
      "metadata": {
        "colab": {
          "base_uri": "https://localhost:8080/"
        },
        "id": "dPE94OQgXMZ7",
        "outputId": "5d2ac5c7-b028-4a7b-aed3-b2fbd600f0da"
      },
      "outputs": [
        {
          "data": {
            "text/plain": [
              "array([1, 'm', list([999, 2, 3])], dtype=object)"
            ]
          },
          "execution_count": 37,
          "metadata": {},
          "output_type": "execute_result"
        }
      ],
      "source": [
        "copy_arr"
      ]
    },
    {
      "cell_type": "markdown",
      "metadata": {
        "id": "8Do-aNUpXQyk"
      },
      "source": [
        "Let's see if it changed the original array as well."
      ]
    },
    {
      "cell_type": "code",
      "execution_count": null,
      "metadata": {
        "colab": {
          "base_uri": "https://localhost:8080/"
        },
        "id": "zNn7JTfeXNpG",
        "outputId": "04a0e780-6979-4e50-ed7e-fed071fc559b"
      },
      "outputs": [
        {
          "data": {
            "text/plain": [
              "array([1, 'm', list([999, 2, 3])], dtype=object)"
            ]
          },
          "execution_count": 38,
          "metadata": {},
          "output_type": "execute_result"
        }
      ],
      "source": [
        "arr"
      ]
    },
    {
      "cell_type": "markdown",
      "metadata": {
        "id": "HeyJKbZ6XdFd"
      },
      "source": [
        "It did change the original array.\n",
        "\n",
        "Hence, **`.copy()` will return shallow copy when copying elements of array in object array.**\n",
        "\n",
        "Any change in the 2nd level elements of array will be reflected in original array as well."
      ]
    },
    {
      "cell_type": "markdown",
      "metadata": {
        "id": "sO4jpHpIXf-R"
      },
      "source": [
        "So, how do we create deep copy then?\n",
        "\n",
        "We can do so using `copy.deepcopy()` method."
      ]
    },
    {
      "cell_type": "markdown",
      "metadata": {
        "id": "Rr0G1JiSvtjr"
      },
      "source": [
        "---"
      ]
    },
    {
      "cell_type": "markdown",
      "metadata": {
        "id": "Dvd_5JUwXjT0"
      },
      "source": [
        "#### `copy.deepcopy()`\n",
        "\n",
        "- Returns the deep copy of an array.\n",
        "\n",
        "Documentation: https://docs.python.org/3/library/copy.html#copy.deepcopy"
      ]
    },
    {
      "cell_type": "code",
      "execution_count": null,
      "metadata": {
        "id": "c1uV-6UGXSlj"
      },
      "outputs": [],
      "source": [
        "import copy"
      ]
    },
    {
      "cell_type": "code",
      "execution_count": null,
      "metadata": {
        "colab": {
          "base_uri": "https://localhost:8080/"
        },
        "id": "vX2RDEGCXlgK",
        "outputId": "a286e2b0-1b9d-4b19-f869-ab1b4366a5f7"
      },
      "outputs": [
        {
          "data": {
            "text/plain": [
              "array([1, 'm', list([1, 2, 3])], dtype=object)"
            ]
          },
          "execution_count": 40,
          "metadata": {},
          "output_type": "execute_result"
        }
      ],
      "source": [
        "arr = np.array([1, 'm', [1,2,3]], dtype = 'object')\n",
        "arr"
      ]
    },
    {
      "cell_type": "markdown",
      "metadata": {
        "id": "pW-Rcm3BXp7k"
      },
      "source": [
        "Let's make a copy using `deepcopy()`."
      ]
    },
    {
      "cell_type": "code",
      "execution_count": null,
      "metadata": {
        "colab": {
          "base_uri": "https://localhost:8080/"
        },
        "id": "HThnLBvGXnvx",
        "outputId": "de9ea9ad-cf3d-45bd-9d7d-9907d5e52460"
      },
      "outputs": [
        {
          "data": {
            "text/plain": [
              "array([1, 'm', list([1, 2, 3])], dtype=object)"
            ]
          },
          "execution_count": 41,
          "metadata": {},
          "output_type": "execute_result"
        }
      ],
      "source": [
        "copy = copy.deepcopy(arr)\n",
        "copy"
      ]
    },
    {
      "cell_type": "markdown",
      "metadata": {
        "id": "h6jEc-GuXva2"
      },
      "source": [
        "Let's modify the array inside copy array."
      ]
    },
    {
      "cell_type": "code",
      "execution_count": null,
      "metadata": {
        "colab": {
          "base_uri": "https://localhost:8080/"
        },
        "id": "mOhozQEpXtNa",
        "outputId": "bcb21467-a49d-4435-ee18-62a069723c59"
      },
      "outputs": [
        {
          "data": {
            "text/plain": [
              "array([1, 'm', list([999, 2, 3])], dtype=object)"
            ]
          },
          "execution_count": 42,
          "metadata": {},
          "output_type": "execute_result"
        }
      ],
      "source": [
        "copy[2][0] = 999\n",
        "copy"
      ]
    },
    {
      "cell_type": "code",
      "execution_count": null,
      "metadata": {
        "colab": {
          "base_uri": "https://localhost:8080/"
        },
        "id": "KVOIIcIjXzSD",
        "outputId": "1a591605-2734-42cd-d7d0-299af2f6ee21"
      },
      "outputs": [
        {
          "data": {
            "text/plain": [
              "array([1, 'm', list([1, 2, 3])], dtype=object)"
            ]
          },
          "execution_count": 43,
          "metadata": {},
          "output_type": "execute_result"
        }
      ],
      "source": [
        "arr"
      ]
    },
    {
      "cell_type": "markdown",
      "metadata": {
        "id": "pyX2oIH_X8YU"
      },
      "source": [
        "Notice that the changes in copy array didn't reflect back to original array.\n",
        "\n",
        "`copy.deepcopy()` **returns deep copy of an array.**"
      ]
    },
    {
      "cell_type": "markdown",
      "metadata": {
        "id": "XiymZUnzFppr"
      },
      "source": [
        "---"
      ]
    },
    {
      "cell_type": "markdown",
      "metadata": {
        "id": "jnuDMlDFY9VC"
      },
      "source": [
        "## **Splitting**\n",
        "\n",
        "In addition to reshaping and selecting subarrays, it is often necessary to split arrays into smaller arrays or merge arrays into bigger arrays."
      ]
    },
    {
      "cell_type": "markdown",
      "metadata": {
        "id": "vGhhD0AGZGo-"
      },
      "source": [
        "#### `np.split()`\n",
        "\n",
        "- Splits an array into multiple sub-arrays as views.\n",
        "\n",
        "**It takes an argument `indices_or_sections`.**\n",
        "\n",
        "- If `indices_or_sections` is an **integer, n**, the array will be **divided into n equal arrays along axis**.\n",
        "\n",
        "- If such a split is not possible, an error is raised.\n",
        "\n",
        "- If `indices_or_sections` is a **1-D array of sorted integers**, the entries indicate **where along axis the array is split**.\n",
        "\n",
        "- If an index **exceeds the dimension of the array along axis**, an **empty sub-array is returned** correspondingly."
      ]
    },
    {
      "cell_type": "code",
      "execution_count": null,
      "metadata": {
        "colab": {
          "base_uri": "https://localhost:8080/"
        },
        "id": "9_DiIG55ZDfG",
        "outputId": "bf03c846-d13a-4279-8cf5-91854d981aaf"
      },
      "outputs": [
        {
          "data": {
            "text/plain": [
              "array([0, 1, 2, 3, 4, 5, 6, 7, 8])"
            ]
          },
          "execution_count": 44,
          "metadata": {},
          "output_type": "execute_result"
        }
      ],
      "source": [
        "x = np.arange(9)\n",
        "x"
      ]
    },
    {
      "cell_type": "code",
      "execution_count": null,
      "metadata": {
        "colab": {
          "base_uri": "https://localhost:8080/"
        },
        "id": "I5BLNUDlZPCX",
        "outputId": "72f86540-a59c-44cf-f3c9-63bf33fe8535"
      },
      "outputs": [
        {
          "data": {
            "text/plain": [
              "[array([0, 1, 2]), array([3, 4, 5]), array([6, 7, 8])]"
            ]
          },
          "execution_count": 45,
          "metadata": {},
          "output_type": "execute_result"
        }
      ],
      "source": [
        "np.split(x, 3)"
      ]
    },
    {
      "cell_type": "markdown",
      "metadata": {
        "id": "YEFUwXlNAAt8"
      },
      "source": [
        "**IMPORTANT REQUISITE**\n",
        "\n",
        "- Number of elements in the array should be divisible by number of sections."
      ]
    },
    {
      "cell_type": "code",
      "execution_count": null,
      "metadata": {
        "colab": {
          "base_uri": "https://localhost:8080/",
          "height": 280
        },
        "id": "rxbV5iiCAEs7",
        "outputId": "b3264ba9-a9a5-4450-d632-945522f13024"
      },
      "outputs": [
        {
          "ename": "ValueError",
          "evalue": "array split does not result in an equal division",
          "output_type": "error",
          "traceback": [
            "\u001b[0;31m---------------------------------------------------------------------------\u001b[0m",
            "\u001b[0;31mValueError\u001b[0m                                Traceback (most recent call last)",
            "\u001b[0;32m<ipython-input-46-5033f171e13f>\u001b[0m in \u001b[0;36m<cell line: 0>\u001b[0;34m()\u001b[0m\n\u001b[1;32m      1\u001b[0m \u001b[0mb\u001b[0m \u001b[0;34m=\u001b[0m \u001b[0mnp\u001b[0m\u001b[0;34m.\u001b[0m\u001b[0marange\u001b[0m\u001b[0;34m(\u001b[0m\u001b[0;36m10\u001b[0m\u001b[0;34m)\u001b[0m\u001b[0;34m\u001b[0m\u001b[0;34m\u001b[0m\u001b[0m\n\u001b[0;32m----> 2\u001b[0;31m \u001b[0mnp\u001b[0m\u001b[0;34m.\u001b[0m\u001b[0msplit\u001b[0m\u001b[0;34m(\u001b[0m\u001b[0mb\u001b[0m\u001b[0;34m,\u001b[0m \u001b[0;36m3\u001b[0m\u001b[0;34m)\u001b[0m\u001b[0;34m\u001b[0m\u001b[0;34m\u001b[0m\u001b[0m\n\u001b[0m",
            "\u001b[0;32m/usr/local/lib/python3.11/dist-packages/numpy/lib/_shape_base_impl.py\u001b[0m in \u001b[0;36msplit\u001b[0;34m(ary, indices_or_sections, axis)\u001b[0m\n\u001b[1;32m    872\u001b[0m         \u001b[0mN\u001b[0m \u001b[0;34m=\u001b[0m \u001b[0mary\u001b[0m\u001b[0;34m.\u001b[0m\u001b[0mshape\u001b[0m\u001b[0;34m[\u001b[0m\u001b[0maxis\u001b[0m\u001b[0;34m]\u001b[0m\u001b[0;34m\u001b[0m\u001b[0;34m\u001b[0m\u001b[0m\n\u001b[1;32m    873\u001b[0m         \u001b[0;32mif\u001b[0m \u001b[0mN\u001b[0m \u001b[0;34m%\u001b[0m \u001b[0msections\u001b[0m\u001b[0;34m:\u001b[0m\u001b[0;34m\u001b[0m\u001b[0;34m\u001b[0m\u001b[0m\n\u001b[0;32m--> 874\u001b[0;31m             raise ValueError(\n\u001b[0m\u001b[1;32m    875\u001b[0m                 'array split does not result in an equal division') from None\n\u001b[1;32m    876\u001b[0m     \u001b[0;32mreturn\u001b[0m \u001b[0marray_split\u001b[0m\u001b[0;34m(\u001b[0m\u001b[0mary\u001b[0m\u001b[0;34m,\u001b[0m \u001b[0mindices_or_sections\u001b[0m\u001b[0;34m,\u001b[0m \u001b[0maxis\u001b[0m\u001b[0;34m)\u001b[0m\u001b[0;34m\u001b[0m\u001b[0;34m\u001b[0m\u001b[0m\n",
            "\u001b[0;31mValueError\u001b[0m: array split does not result in an equal division"
          ]
        }
      ],
      "source": [
        "b = np.arange(10)\n",
        "np.split(b, 3)"
      ]
    },
    {
      "cell_type": "code",
      "execution_count": null,
      "metadata": {
        "colab": {
          "base_uri": "https://localhost:8080/"
        },
        "id": "J3Dxeq0ZAJT7",
        "outputId": "800da099-ea4e-4827-b2bc-e3e0259904f1"
      },
      "outputs": [
        {
          "data": {
            "text/plain": [
              "[array([0, 1, 2]), array([3, 4, 5]), array([6, 7, 8])]"
            ]
          },
          "execution_count": 47,
          "metadata": {},
          "output_type": "execute_result"
        }
      ],
      "source": [
        "b[0:-1]\n",
        "np.split(b[0:-1], 3)"
      ]
    },
    {
      "cell_type": "markdown",
      "metadata": {
        "id": "v5qpDZjyHT8M"
      },
      "source": [
        "---"
      ]
    },
    {
      "cell_type": "markdown",
      "metadata": {
        "id": "nGECEMdRZ2Pe"
      },
      "source": [
        "#### `np.hsplit()`\n",
        "\n",
        "- Splits an array into multiple sub-arrays **horizontally (column-wise)**."
      ]
    },
    {
      "cell_type": "code",
      "execution_count": null,
      "metadata": {
        "colab": {
          "base_uri": "https://localhost:8080/"
        },
        "id": "7CRaE1_LZzy-",
        "outputId": "f9c6a5af-1860-46eb-f8ee-51290343ea4f"
      },
      "outputs": [
        {
          "data": {
            "text/plain": [
              "array([[ 0.,  1.,  2.,  3.],\n",
              "       [ 4.,  5.,  6.,  7.],\n",
              "       [ 8.,  9., 10., 11.],\n",
              "       [12., 13., 14., 15.]])"
            ]
          },
          "execution_count": 49,
          "metadata": {},
          "output_type": "execute_result"
        }
      ],
      "source": [
        "x = np.arange(16.0).reshape(4, 4)\n",
        "x"
      ]
    },
    {
      "cell_type": "markdown",
      "metadata": {
        "id": "wHWT79L2ITvB"
      },
      "source": [
        "Think of it this way:\n",
        "\n",
        "  - There are 2 axis to a 2D array\n",
        "    1. **1st axis - Vertical axis**\n",
        "    2. **2nd axis - Horizontal axis**"
      ]
    },
    {
      "cell_type": "markdown",
      "metadata": {
        "id": "YIiUUHkGaSNZ"
      },
      "source": [
        "**Along which axis are we splitting the array?**\n",
        "\n",
        "- The split we want happens across the **2nd axis (Horizontal axis)**\n",
        "- That is why we use `hsplit()`\n",
        "\n",
        "**So, try to think in terms of \"whether the operation is happening along vertical axis or horizontal axis\".**\n",
        "\n",
        "- We are splitting the horizontal axis in this case."
      ]
    },
    {
      "cell_type": "code",
      "execution_count": null,
      "metadata": {
        "colab": {
          "base_uri": "https://localhost:8080/"
        },
        "id": "bF5SwuSUZ9Po",
        "outputId": "cf1905ec-e2f8-4810-f915-2e910acad51d"
      },
      "outputs": [
        {
          "data": {
            "text/plain": [
              "[array([[ 0.,  1.],\n",
              "        [ 4.,  5.],\n",
              "        [ 8.,  9.],\n",
              "        [12., 13.]]),\n",
              " array([[ 2.,  3.],\n",
              "        [ 6.,  7.],\n",
              "        [10., 11.],\n",
              "        [14., 15.]])]"
            ]
          },
          "execution_count": 50,
          "metadata": {},
          "output_type": "execute_result"
        }
      ],
      "source": [
        "np.hsplit(x, 2)"
      ]
    },
    {
      "cell_type": "code",
      "execution_count": null,
      "metadata": {
        "colab": {
          "base_uri": "https://localhost:8080/"
        },
        "id": "notszTQuaUNA",
        "outputId": "f0f23684-f09a-47c6-e918-6fad1fe7f348"
      },
      "outputs": [
        {
          "data": {
            "text/plain": [
              "[array([[ 0.,  1.,  2.],\n",
              "        [ 4.,  5.,  6.],\n",
              "        [ 8.,  9., 10.],\n",
              "        [12., 13., 14.]]),\n",
              " array([[ 3.],\n",
              "        [ 7.],\n",
              "        [11.],\n",
              "        [15.]]),\n",
              " array([], shape=(4, 0), dtype=float64)]"
            ]
          },
          "execution_count": 51,
          "metadata": {},
          "output_type": "execute_result"
        }
      ],
      "source": [
        "np.hsplit(x, np.array([3, 6]))"
      ]
    },
    {
      "cell_type": "markdown",
      "metadata": {
        "id": "qvr7zKZCIN0t"
      },
      "source": [
        "---"
      ]
    },
    {
      "cell_type": "markdown",
      "metadata": {
        "id": "DnEV-I8jaejl"
      },
      "source": [
        "#### `np.vsplit()`\n",
        "\n",
        "- Splits an array into multiple sub-arrays **vertically (row-wise)**."
      ]
    },
    {
      "cell_type": "code",
      "execution_count": null,
      "metadata": {
        "colab": {
          "base_uri": "https://localhost:8080/"
        },
        "id": "G4brs6CsabDw",
        "outputId": "60a40214-c047-443c-8cb7-3a1c89037229"
      },
      "outputs": [
        {
          "data": {
            "text/plain": [
              "array([[ 0.,  1.,  2.,  3.],\n",
              "       [ 4.,  5.,  6.,  7.],\n",
              "       [ 8.,  9., 10., 11.],\n",
              "       [12., 13., 14., 15.]])"
            ]
          },
          "execution_count": 52,
          "metadata": {},
          "output_type": "execute_result"
        }
      ],
      "source": [
        "x = np.arange(16.0).reshape(4, 4)\n",
        "x"
      ]
    },
    {
      "cell_type": "markdown",
      "metadata": {
        "id": "1OUbx8yRamQs"
      },
      "source": [
        "**Now, along which axis are we splitting the array?**\n",
        "\n",
        "- The split we want happens across the **1st axis (Vertical axis)**\n",
        "- That is why we use `vsplit()`\n",
        "\n",
        "**Again, always try to think in terms of \"whether the operation is happening along vertical axis or horizontal axis\".**\n",
        "\n",
        "- We are splitting the vertical axis in this case."
      ]
    },
    {
      "cell_type": "code",
      "execution_count": null,
      "metadata": {
        "colab": {
          "base_uri": "https://localhost:8080/"
        },
        "id": "JIbFVHl1agv3",
        "outputId": "a201f3ca-eaa7-45e7-8b66-fdc7db66dfff"
      },
      "outputs": [
        {
          "data": {
            "text/plain": [
              "[array([[0., 1., 2., 3.],\n",
              "        [4., 5., 6., 7.]]),\n",
              " array([[ 8.,  9., 10., 11.],\n",
              "        [12., 13., 14., 15.]])]"
            ]
          },
          "execution_count": 53,
          "metadata": {},
          "output_type": "execute_result"
        }
      ],
      "source": [
        "np.vsplit(x, 2)"
      ]
    },
    {
      "cell_type": "code",
      "execution_count": null,
      "metadata": {
        "colab": {
          "base_uri": "https://localhost:8080/"
        },
        "id": "3dfHhDDjaoKW",
        "outputId": "34c9c8ae-4d75-41e8-dc0a-a065922df2c6"
      },
      "outputs": [
        {
          "data": {
            "text/plain": [
              "[array([[ 0.,  1.,  2.,  3.],\n",
              "        [ 4.,  5.,  6.,  7.],\n",
              "        [ 8.,  9., 10., 11.]]),\n",
              " array([[12., 13., 14., 15.]])]"
            ]
          },
          "execution_count": 54,
          "metadata": {},
          "output_type": "execute_result"
        }
      ],
      "source": [
        "np.vsplit(x, np.array([3]))"
      ]
    },
    {
      "cell_type": "markdown",
      "metadata": {
        "id": "p_Hh6l-kJHCC"
      },
      "source": [
        "<img src=\"https://d2beiqkhq929f0.cloudfront.net/public_assets/assets/000/054/735/original/hvsp1.png?1698041133\" width=\"600\" height=\"400\">"
      ]
    },
    {
      "cell_type": "markdown",
      "metadata": {
        "id": "8kUZhaTAHeQy"
      },
      "source": [
        "---"
      ]
    },
    {
      "cell_type": "markdown",
      "metadata": {
        "id": "SiT_xcieawQJ"
      },
      "source": [
        "## **Stacking**"
      ]
    },
    {
      "cell_type": "code",
      "execution_count": null,
      "metadata": {
        "id": "dUVhe9Y_KSC6"
      },
      "outputs": [],
      "source": [
        "a = np.arange(1, 5)\n",
        "b = np.arange(2, 6)\n",
        "c = np.arange(3, 7)"
      ]
    },
    {
      "cell_type": "markdown",
      "metadata": {
        "id": "He-9NP8Ga9Zs"
      },
      "source": [
        "#### `np.vstack()`\n",
        "\n",
        "- Stacks a list of arrays **vertically (along axis 0 or 1st axis)**.\n",
        "- For **example**, **given a list of row vectors, appends the rows to form a matrix**."
      ]
    },
    {
      "cell_type": "code",
      "execution_count": null,
      "metadata": {
        "colab": {
          "base_uri": "https://localhost:8080/"
        },
        "id": "banhDiFsarjv",
        "outputId": "dea8ae0e-df21-418e-8fd5-241faae4c9c2"
      },
      "outputs": [
        {
          "data": {
            "text/plain": [
              "array([[2, 3, 4, 5],\n",
              "       [3, 4, 5, 6],\n",
              "       [1, 2, 3, 4]])"
            ]
          },
          "execution_count": 56,
          "metadata": {},
          "output_type": "execute_result"
        }
      ],
      "source": [
        "np.vstack([b, c, a])"
      ]
    },
    {
      "cell_type": "code",
      "execution_count": null,
      "metadata": {
        "id": "p68BVdbAKhHN"
      },
      "outputs": [],
      "source": [
        "a = np.arange(1, 5)\n",
        "b = np.arange(2, 4)\n",
        "c = np.arange(3, 10)"
      ]
    },
    {
      "cell_type": "code",
      "execution_count": null,
      "metadata": {
        "colab": {
          "base_uri": "https://localhost:8080/",
          "height": 263
        },
        "id": "vKsGFs2bKkgL",
        "outputId": "51d901a9-d060-4535-a0c0-2c5ee1da1871"
      },
      "outputs": [
        {
          "ename": "ValueError",
          "evalue": "all the input array dimensions except for the concatenation axis must match exactly, but along dimension 1, the array at index 0 has size 2 and the array at index 1 has size 7",
          "output_type": "error",
          "traceback": [
            "\u001b[0;31m---------------------------------------------------------------------------\u001b[0m",
            "\u001b[0;31mValueError\u001b[0m                                Traceback (most recent call last)",
            "\u001b[0;32m<ipython-input-58-5148cb6ebc5f>\u001b[0m in \u001b[0;36m<cell line: 0>\u001b[0;34m()\u001b[0m\n\u001b[0;32m----> 1\u001b[0;31m \u001b[0mnp\u001b[0m\u001b[0;34m.\u001b[0m\u001b[0mvstack\u001b[0m\u001b[0;34m(\u001b[0m\u001b[0;34m[\u001b[0m\u001b[0mb\u001b[0m\u001b[0;34m,\u001b[0m \u001b[0mc\u001b[0m\u001b[0;34m,\u001b[0m \u001b[0ma\u001b[0m\u001b[0;34m]\u001b[0m\u001b[0;34m)\u001b[0m\u001b[0;34m\u001b[0m\u001b[0;34m\u001b[0m\u001b[0m\n\u001b[0m",
            "\u001b[0;32m/usr/local/lib/python3.11/dist-packages/numpy/_core/shape_base.py\u001b[0m in \u001b[0;36mvstack\u001b[0;34m(tup, dtype, casting)\u001b[0m\n\u001b[1;32m    285\u001b[0m     \u001b[0;32mif\u001b[0m \u001b[0;32mnot\u001b[0m \u001b[0misinstance\u001b[0m\u001b[0;34m(\u001b[0m\u001b[0marrs\u001b[0m\u001b[0;34m,\u001b[0m \u001b[0mtuple\u001b[0m\u001b[0;34m)\u001b[0m\u001b[0;34m:\u001b[0m\u001b[0;34m\u001b[0m\u001b[0;34m\u001b[0m\u001b[0m\n\u001b[1;32m    286\u001b[0m         \u001b[0marrs\u001b[0m \u001b[0;34m=\u001b[0m \u001b[0;34m(\u001b[0m\u001b[0marrs\u001b[0m\u001b[0;34m,\u001b[0m\u001b[0;34m)\u001b[0m\u001b[0;34m\u001b[0m\u001b[0;34m\u001b[0m\u001b[0m\n\u001b[0;32m--> 287\u001b[0;31m     \u001b[0;32mreturn\u001b[0m \u001b[0m_nx\u001b[0m\u001b[0;34m.\u001b[0m\u001b[0mconcatenate\u001b[0m\u001b[0;34m(\u001b[0m\u001b[0marrs\u001b[0m\u001b[0;34m,\u001b[0m \u001b[0;36m0\u001b[0m\u001b[0;34m,\u001b[0m \u001b[0mdtype\u001b[0m\u001b[0;34m=\u001b[0m\u001b[0mdtype\u001b[0m\u001b[0;34m,\u001b[0m \u001b[0mcasting\u001b[0m\u001b[0;34m=\u001b[0m\u001b[0mcasting\u001b[0m\u001b[0;34m)\u001b[0m\u001b[0;34m\u001b[0m\u001b[0;34m\u001b[0m\u001b[0m\n\u001b[0m\u001b[1;32m    288\u001b[0m \u001b[0;34m\u001b[0m\u001b[0m\n\u001b[1;32m    289\u001b[0m \u001b[0;34m\u001b[0m\u001b[0m\n",
            "\u001b[0;31mValueError\u001b[0m: all the input array dimensions except for the concatenation axis must match exactly, but along dimension 1, the array at index 0 has size 2 and the array at index 1 has size 7"
          ]
        }
      ],
      "source": [
        "np.vstack([b, c, a])"
      ]
    },
    {
      "cell_type": "markdown",
      "metadata": {
        "id": "FQOpSdxLI2_k"
      },
      "source": [
        "---"
      ]
    },
    {
      "cell_type": "markdown",
      "metadata": {
        "id": "LlyEM18mKtgj"
      },
      "source": [
        "#### `np.hstack`\n",
        "\n",
        "- Stacks a list of arrays **horizontally (along axis 1 or 2nd axis)**."
      ]
    },
    {
      "cell_type": "code",
      "execution_count": null,
      "metadata": {
        "colab": {
          "base_uri": "https://localhost:8080/"
        },
        "id": "R6mpHZKSKxtw",
        "outputId": "ae037ade-aebc-41b5-fea4-dd261f6a3f70"
      },
      "outputs": [
        {
          "data": {
            "text/plain": [
              "array([[0],\n",
              "       [1],\n",
              "       [2],\n",
              "       [3],\n",
              "       [4]])"
            ]
          },
          "execution_count": 59,
          "metadata": {},
          "output_type": "execute_result"
        }
      ],
      "source": [
        "a = np.arange(5).reshape(5, 1)\n",
        "a"
      ]
    },
    {
      "cell_type": "code",
      "execution_count": null,
      "metadata": {
        "colab": {
          "base_uri": "https://localhost:8080/"
        },
        "id": "BXmZQzBKKz9B",
        "outputId": "a6bf1f3d-e9ce-4d9a-abc3-5ca0cdc0bc31"
      },
      "outputs": [
        {
          "data": {
            "text/plain": [
              "array([[ 0,  1,  2],\n",
              "       [ 3,  4,  5],\n",
              "       [ 6,  7,  8],\n",
              "       [ 9, 10, 11],\n",
              "       [12, 13, 14]])"
            ]
          },
          "execution_count": 60,
          "metadata": {},
          "output_type": "execute_result"
        }
      ],
      "source": [
        "b = np.arange(15).reshape(5, 3)\n",
        "b"
      ]
    },
    {
      "cell_type": "code",
      "execution_count": null,
      "metadata": {
        "colab": {
          "base_uri": "https://localhost:8080/"
        },
        "id": "u_FedRfuK1m-",
        "outputId": "aa75a803-7ee6-4621-813c-922f2b3345b8"
      },
      "outputs": [
        {
          "data": {
            "text/plain": [
              "array([[ 0,  0,  1,  2],\n",
              "       [ 1,  3,  4,  5],\n",
              "       [ 2,  6,  7,  8],\n",
              "       [ 3,  9, 10, 11],\n",
              "       [ 4, 12, 13, 14]])"
            ]
          },
          "execution_count": 61,
          "metadata": {},
          "output_type": "execute_result"
        }
      ],
      "source": [
        "np.hstack([a, b])"
      ]
    },
    {
      "cell_type": "markdown",
      "metadata": {
        "id": "yH5U4M6pJKI0"
      },
      "source": [
        "---"
      ]
    },
    {
      "cell_type": "markdown",
      "metadata": {
        "id": "Wh398pCGcKzU"
      },
      "source": [
        "#### `np.concatenate()`\n",
        "\n",
        "- Can perform both vstack and hstack\n",
        "- Creates a new array by appending arrays after each other, along a given axis.\n",
        "\n",
        "Provides similar functionality, but it takes a **keyword argument `axis`** that specifies the **axis along which the arrays are to be concatenated**.\n",
        "\n",
        "The input array to `concatenate()` needs to be of dimensions atleast equal to the dimensions of output array."
      ]
    },
    {
      "cell_type": "code",
      "execution_count": null,
      "metadata": {
        "colab": {
          "base_uri": "https://localhost:8080/"
        },
        "id": "ATdQUGbxb75A",
        "outputId": "2151899c-d2b2-4a6a-9d1b-0df58aa1c276"
      },
      "outputs": [
        {
          "data": {
            "text/plain": [
              "array([1, 2, 3])"
            ]
          },
          "execution_count": 62,
          "metadata": {},
          "output_type": "execute_result"
        }
      ],
      "source": [
        "a = np.array([1,2,3])\n",
        "a\n"
      ]
    },
    {
      "cell_type": "code",
      "execution_count": null,
      "metadata": {
        "colab": {
          "base_uri": "https://localhost:8080/"
        },
        "id": "8qwps7KocRq2",
        "outputId": "f4cf9060-6e33-4789-b99b-35e40da9dba6"
      },
      "outputs": [
        {
          "data": {
            "text/plain": [
              "array([[1, 2, 3],\n",
              "       [4, 5, 6]])"
            ]
          },
          "execution_count": 66,
          "metadata": {},
          "output_type": "execute_result"
        }
      ],
      "source": [
        "b = np.array([[1,2,3], [4,5,6]])\n",
        "b"
      ]
    },
    {
      "cell_type": "code",
      "execution_count": null,
      "metadata": {
        "colab": {
          "base_uri": "https://localhost:8080/"
        },
        "id": "-1mVU2c2cjgA",
        "outputId": "79e3dd43-dd85-45bf-ec22-f78ac55705d9"
      },
      "outputs": [
        {
          "data": {
            "text/plain": [
              "array([[1, 2, 3],\n",
              "       [1, 2, 3],\n",
              "       [4, 5, 6]])"
            ]
          },
          "execution_count": 67,
          "metadata": {},
          "output_type": "execute_result"
        }
      ],
      "source": [
        "np.concatenate([a, b], axis=0)"
      ]
    },
    {
      "cell_type": "markdown",
      "metadata": {
        "id": "qopGWMoxLGXL"
      },
      "source": [
        "**`concatenate()` can only work if both `a` and `b` have the same number of dimensions**"
      ]
    },
    {
      "cell_type": "code",
      "execution_count": null,
      "metadata": {
        "id": "vVFuJy2ELQri"
      },
      "outputs": [],
      "source": [
        "a = np.array([[1,2,3]])\n",
        "b = np.array([[1,2,3], [4,5,6]])"
      ]
    },
    {
      "cell_type": "code",
      "execution_count": null,
      "metadata": {
        "colab": {
          "base_uri": "https://localhost:8080/"
        },
        "id": "gbIP-MywLSJ1",
        "outputId": "8e7ce096-b3ce-40a1-8580-161b2fa68c7b"
      },
      "outputs": [
        {
          "data": {
            "text/plain": [
              "array([[1, 2, 3],\n",
              "       [1, 2, 3],\n",
              "       [4, 5, 6]])"
            ]
          },
          "execution_count": 69,
          "metadata": {},
          "output_type": "execute_result"
        }
      ],
      "source": [
        "np.concatenate([a, b], axis = 0) # axis=0 -> vstack"
      ]
    },
    {
      "cell_type": "code",
      "execution_count": null,
      "metadata": {
        "id": "SM_OnSqcLTsQ"
      },
      "outputs": [],
      "source": [
        "a = np.arange(6).reshape(3, 2)\n",
        "b = np.arange(9).reshape(3, 3)"
      ]
    },
    {
      "cell_type": "code",
      "execution_count": null,
      "metadata": {
        "colab": {
          "base_uri": "https://localhost:8080/"
        },
        "id": "HZqBbDEGLVPN",
        "outputId": "1f5a7676-b40a-41a3-e98e-19212a9f3717"
      },
      "outputs": [
        {
          "data": {
            "text/plain": [
              "array([[0, 1, 0, 1, 2],\n",
              "       [2, 3, 3, 4, 5],\n",
              "       [4, 5, 6, 7, 8]])"
            ]
          },
          "execution_count": 71,
          "metadata": {},
          "output_type": "execute_result"
        }
      ],
      "source": [
        "np.concatenate([a, b], axis = 1) # axis=1 -> hstack"
      ]
    },
    {
      "cell_type": "code",
      "execution_count": null,
      "metadata": {
        "id": "S9Kn1mzYLaGq"
      },
      "outputs": [],
      "source": [
        "a = np.array([[1,2], [3,4]])\n",
        "b = np.array([[5,6,7,8]])"
      ]
    },
    {
      "cell_type": "code",
      "execution_count": null,
      "metadata": {
        "colab": {
          "base_uri": "https://localhost:8080/"
        },
        "id": "cL94_P26Lbvn",
        "outputId": "d22e37cd-50d6-4400-83c5-a8d8b012111e"
      },
      "outputs": [
        {
          "data": {
            "text/plain": [
              "array([1, 2, 3, 4, 5, 6, 7, 8])"
            ]
          },
          "execution_count": 73,
          "metadata": {},
          "output_type": "execute_result"
        }
      ],
      "source": [
        "np.concatenate([a, b], axis = None)\n",
        "\n",
        "# axis=None joins and converts to 1D"
      ]
    },
    {
      "cell_type": "code",
      "execution_count": 3,
      "metadata": {},
      "outputs": [
        {
          "data": {
            "text/plain": [
              "array([[[0],\n",
              "        [2]],\n",
              "\n",
              "       [[4],\n",
              "        [6]]])"
            ]
          },
          "execution_count": 3,
          "metadata": {},
          "output_type": "execute_result"
        }
      ],
      "source": [
        "import numpy as np\n",
        "arr = np.array([[[0, 1], \n",
        "             [2, 3]], \n",
        " \n",
        "            [[4, 5], \n",
        "             [6, 7]]])\n",
        "arr[:, 0:,:1]"
      ]
    },
    {
      "cell_type": "markdown",
      "metadata": {
        "id": "bWmTwuWjMvYD"
      },
      "source": [
        "---"
      ]
    },
    {
      "cell_type": "markdown",
      "metadata": {
        "id": "ZyCZ6x2bsRxL"
      },
      "source": [
        "### Extra-reading material\n",
        "\n",
        "- [Image Manipulation](https://colab.research.google.com/drive/1SkyA5iF7UTDR8VFhCWEy525XlcaJ8YdI#scrollTo=VBD8uhb9M63e)"
      ]
    }
  ],
  "metadata": {
    "colab": {
      "include_colab_link": true,
      "provenance": []
    },
    "kernelspec": {
      "display_name": "Python 3",
      "name": "python3"
    },
    "language_info": {
      "codemirror_mode": {
        "name": "ipython",
        "version": 3
      },
      "file_extension": ".py",
      "mimetype": "text/x-python",
      "name": "python",
      "nbconvert_exporter": "python",
      "pygments_lexer": "ipython3",
      "version": "3.13.3"
    }
  },
  "nbformat": 4,
  "nbformat_minor": 0
}
