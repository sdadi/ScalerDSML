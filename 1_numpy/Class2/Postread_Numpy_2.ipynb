{
  "nbformat": 4,
  "nbformat_minor": 0,
  "metadata": {
    "colab": {
      "provenance": [],
      "include_colab_link": true
    },
    "kernelspec": {
      "name": "python3",
      "display_name": "Python 3"
    },
    "language_info": {
      "name": "python"
    }
  },
  "cells": [
    {
      "cell_type": "markdown",
      "metadata": {
        "id": "view-in-github",
        "colab_type": "text"
      },
      "source": [
        "<a href=\"https://colab.research.google.com/github/sdadi/ScalerDSML/blob/main/1_numpy/Class2/Postread_Numpy_2.ipynb\" target=\"_parent\"><img src=\"https://colab.research.google.com/assets/colab-badge.svg\" alt=\"Open In Colab\"/></a>"
      ]
    },
    {
      "cell_type": "markdown",
      "source": [
        "# Numpy 2"
      ],
      "metadata": {
        "id": "BOVdb1cR_h98"
      }
    },
    {
      "cell_type": "markdown",
      "source": [
        "## **Content**\n",
        "\n",
        "- Aggregate Functions\n",
        "- Logical Operations\n",
        "  - `np.any()`\n",
        "  - `np.all()`\n",
        "  - `np.where()`\n",
        "- Sorting\n",
        "- Vectorization\n",
        "- Broadcasting\n",
        "\n",
        "---"
      ],
      "metadata": {
        "id": "au-iScMY_KLD"
      }
    },
    {
      "cell_type": "markdown",
      "source": [
        "## **Aggregate Functions**"
      ],
      "metadata": {
        "id": "r_ExzwGgN44X"
      }
    },
    {
      "cell_type": "markdown",
      "metadata": {
        "id": "36d2c4c6"
      },
      "source": [
        "Numpy provides various universal functions that cover a wide variety of operations and perform **fast element-wise array operations**."
      ]
    },
    {
      "cell_type": "markdown",
      "source": [
        "#### How would calculate the sum of elements of an array?\n",
        "\n",
        "#### `np.sum()`\n",
        "\n",
        "- It sums all the values in a numpy array."
      ],
      "metadata": {
        "id": "tENw_OzD4WdW"
      }
    },
    {
      "cell_type": "code",
      "execution_count": null,
      "metadata": {
        "id": "cabc7e1f",
        "colab": {
          "base_uri": "https://localhost:8080/"
        },
        "outputId": "35bd50e1-989d-4f0f-db41-3937b41c5059"
      },
      "outputs": [
        {
          "output_type": "execute_result",
          "data": {
            "text/plain": [
              "array([ 1,  2,  3,  4,  5,  6,  7,  8,  9, 10])"
            ]
          },
          "metadata": {},
          "execution_count": 1
        }
      ],
      "source": [
        "import numpy as np\n",
        "a = np.arange(1, 11)\n",
        "a"
      ]
    },
    {
      "cell_type": "code",
      "execution_count": null,
      "metadata": {
        "id": "26ff89b9",
        "colab": {
          "base_uri": "https://localhost:8080/"
        },
        "outputId": "2bd189e1-cee4-4dcc-d003-2ef4db5de896"
      },
      "outputs": [
        {
          "output_type": "execute_result",
          "data": {
            "text/plain": [
              "np.int64(55)"
            ]
          },
          "metadata": {},
          "execution_count": 2
        }
      ],
      "source": [
        "np.sum(a)"
      ]
    },
    {
      "cell_type": "markdown",
      "metadata": {
        "id": "80fcf497"
      },
      "source": [
        "#### What if we want to find the average value or median value of all the elements in an array?\n",
        "\n",
        "#### `np.mean()`\n",
        "\n",
        "- It gives the us mean of all values in a numpy array."
      ]
    },
    {
      "cell_type": "code",
      "execution_count": null,
      "metadata": {
        "id": "225a1264",
        "colab": {
          "base_uri": "https://localhost:8080/"
        },
        "outputId": "623e6181-8718-4a71-82f9-6ff37d32ded6"
      },
      "outputs": [
        {
          "output_type": "execute_result",
          "data": {
            "text/plain": [
              "np.float64(5.5)"
            ]
          },
          "metadata": {},
          "execution_count": 3
        }
      ],
      "source": [
        "np.mean(a)"
      ]
    },
    {
      "cell_type": "markdown",
      "source": [
        "Similar to sum() and mean(), we can use all aggregate functions to find values (e.g., min(), max(), count(), etc.)."
      ],
      "metadata": {
        "id": "oQEWcWk7_y1y"
      }
    },
    {
      "cell_type": "markdown",
      "source": [
        "Let's apply aggregate functions on 2D array."
      ],
      "metadata": {
        "id": "R1mXgmx8KTYb"
      }
    },
    {
      "cell_type": "code",
      "execution_count": null,
      "metadata": {
        "id": "PY4b_4SyfjeT",
        "colab": {
          "base_uri": "https://localhost:8080/"
        },
        "outputId": "7bcd9660-e91e-43ac-ad02-4d9b5f06ba64"
      },
      "outputs": [
        {
          "output_type": "execute_result",
          "data": {
            "text/plain": [
              "array([[ 0,  1,  2,  3],\n",
              "       [ 4,  5,  6,  7],\n",
              "       [ 8,  9, 10, 11]])"
            ]
          },
          "metadata": {},
          "execution_count": 6
        }
      ],
      "source": [
        "a = np.arange(12).reshape(3, 4)\n",
        "a"
      ]
    },
    {
      "cell_type": "code",
      "execution_count": null,
      "metadata": {
        "id": "NP4yQMQ8fjeU",
        "colab": {
          "base_uri": "https://localhost:8080/"
        },
        "outputId": "8fb80d91-99d5-4885-d68c-b2fcb2b728f7"
      },
      "outputs": [
        {
          "output_type": "execute_result",
          "data": {
            "text/plain": [
              "np.int64(66)"
            ]
          },
          "metadata": {},
          "execution_count": 7
        }
      ],
      "source": [
        "np.sum(a)  # sums all the values present in the array"
      ]
    },
    {
      "cell_type": "markdown",
      "metadata": {
        "id": "1955d7d4"
      },
      "source": [
        "### What if we want to do the elements row-wise or column-wise?\n",
        "\n",
        "- By **setting `axis` parameter**"
      ]
    },
    {
      "cell_type": "markdown",
      "source": [
        "#### What will `np.sum(a, axis=0)` do?\n",
        "\n",
        "- `np.sum(a, axis=0)` adds together values in **different rows**\n",
        "- `axis = 0` $\\rightarrow$ **Changes will happen along the vertical axis**\n",
        "- Summation of values happen **in the vertical direction**.\n",
        "- Rows collapse/merge when we do `axis=0`."
      ],
      "metadata": {
        "id": "M-uD3lpw5Ku5"
      }
    },
    {
      "cell_type": "code",
      "execution_count": null,
      "metadata": {
        "id": "a87cc8db",
        "colab": {
          "base_uri": "https://localhost:8080/"
        },
        "outputId": "385d27de-b6e5-4352-9f2f-baa2bbc84ec6"
      },
      "outputs": [
        {
          "output_type": "execute_result",
          "data": {
            "text/plain": [
              "array([12, 15, 18, 21])"
            ]
          },
          "metadata": {},
          "execution_count": 8
        }
      ],
      "source": [
        "np.sum(a, axis=0)"
      ]
    },
    {
      "cell_type": "markdown",
      "metadata": {
        "id": "e518c042"
      },
      "source": [
        "#### What if we specify `axis=1`?\n",
        "\n",
        "- `np.sum(a, axis=1)` adds together values in **different columns**\n",
        "- `axis = 1` $\\rightarrow$ **Changes will happen along the horizontal axis**\n",
        "- Summation of values happen **in the horizontal direction**.\n",
        "- Columns collapse/merge when we do `axis=1`."
      ]
    },
    {
      "cell_type": "code",
      "execution_count": null,
      "metadata": {
        "id": "8d7587cb",
        "colab": {
          "base_uri": "https://localhost:8080/"
        },
        "outputId": "c2608936-b147-44cc-fc98-ec95120ed4af"
      },
      "outputs": [
        {
          "output_type": "execute_result",
          "data": {
            "text/plain": [
              "array([ 6, 22, 38])"
            ]
          },
          "metadata": {},
          "execution_count": 9
        }
      ],
      "source": [
        "np.sum(a, axis=1)"
      ]
    },
    {
      "cell_type": "markdown",
      "source": [
        "---"
      ],
      "metadata": {
        "id": "SI20VRW647dv"
      }
    },
    {
      "cell_type": "markdown",
      "source": [
        "## **Logical Operations**"
      ],
      "metadata": {
        "id": "1skQodlmgqT4"
      }
    },
    {
      "cell_type": "markdown",
      "metadata": {
        "id": "5ZtaYWzkgqUQ"
      },
      "source": [
        "#### What if we want to check whether **\"any\"** element of array follows a specific condition?\n",
        "\n",
        "#### `np.any()`\n",
        "\n",
        "- returns `True` if **any of the corresponding elements** in the argument arrays follow the **provided condition**.\n"
      ]
    },
    {
      "cell_type": "markdown",
      "metadata": {
        "id": "rwbF577fgqUS"
      },
      "source": [
        "Imagine you have a shopping list with items you need to buy, but you're not sure if you have enough money to buy everything.\n",
        "\n",
        "You want to check if there's at least one item on your list that you can afford.\n",
        "\n",
        "In this case, you can use `np.any`:\n"
      ]
    },
    {
      "cell_type": "code",
      "execution_count": null,
      "metadata": {
        "id": "Ogz7mCzvgqUT",
        "colab": {
          "base_uri": "https://localhost:8080/"
        },
        "outputId": "8fb47f1a-e108-4b9c-a728-49e11aebcc6b"
      },
      "outputs": [
        {
          "output_type": "stream",
          "name": "stdout",
          "text": [
            "You can buy at least one item on your list!\n"
          ]
        }
      ],
      "source": [
        "import numpy as np\n",
        "\n",
        "# Prices of items on your shopping list\n",
        "prices = np.array([50, 45, 25, 20, 35])\n",
        "\n",
        "# Your budget\n",
        "budget = 30\n",
        "\n",
        "# Check if there's at least one item you can afford\n",
        "can_afford = np.any(prices <= budget)\n",
        "\n",
        "if can_afford:\n",
        "    print(\"You can buy at least one item on your list!\")\n",
        "else:\n",
        "    print(\"Sorry, nothing on your list fits your budget.\")"
      ]
    },
    {
      "cell_type": "markdown",
      "source": [
        "---"
      ],
      "metadata": {
        "id": "9q2qJZoJ6Uz8"
      }
    },
    {
      "cell_type": "markdown",
      "metadata": {
        "id": "KLsY7jiSgqUV"
      },
      "source": [
        "#### What if we want to check whether \"all\" the elements in our array follow a specific condition?\n",
        "\n",
        "#### `np.all()`\n",
        "\n",
        "- returns `True` if **all the elements** in the argument arrays follow the **provided condition**.\n",
        "\n"
      ]
    },
    {
      "cell_type": "markdown",
      "source": [
        "Let's consider a scenario where you have a list of chores, and you want to make sure all the chores are done before you can play video games.\n",
        "\n",
        "You can use `np.all` to check if all the chores are completed."
      ],
      "metadata": {
        "id": "T2FT_MJH7FNh"
      }
    },
    {
      "cell_type": "code",
      "source": [
        "import numpy as np\n",
        "\n",
        "# Chores status: 1 for done, 0 for not done\n",
        "chores = np.array([1, 1, 1, 1, 0])\n",
        "\n",
        "# Check if all chores are done\n",
        "all_chores_done = np.all(chores == 1)\n",
        "\n",
        "if all_chores_done:\n",
        "    print(\"Great job! You've completed all your chores. Time to play!\")\n",
        "else:\n",
        "    print(\"Finish all your chores before you can play.\")\n"
      ],
      "metadata": {
        "id": "f8mpHfDMAp1F",
        "colab": {
          "base_uri": "https://localhost:8080/"
        },
        "outputId": "9e77b00e-a849-48a3-f1f8-7371af1ea2a9"
      },
      "execution_count": null,
      "outputs": [
        {
          "output_type": "stream",
          "name": "stdout",
          "text": [
            "Finish all your chores before you can play.\n"
          ]
        }
      ]
    },
    {
      "cell_type": "markdown",
      "metadata": {
        "id": "WNB_mE0LgqUX"
      },
      "source": [
        "**Multiple conditions for `.all()` function -**"
      ]
    },
    {
      "cell_type": "code",
      "execution_count": null,
      "metadata": {
        "id": "sbrgHu4SgqUY",
        "colab": {
          "base_uri": "https://localhost:8080/"
        },
        "outputId": "a4e171e8-4839-4758-9950-06c9f3479ea0"
      },
      "outputs": [
        {
          "output_type": "execute_result",
          "data": {
            "text/plain": [
              "np.True_"
            ]
          },
          "metadata": {},
          "execution_count": 12
        }
      ],
      "source": [
        "a = np.array([1, 2, 3, 2])\n",
        "b = np.array([2, 2, 3, 2])\n",
        "c = np.array([6, 4, 4, 5])\n",
        "\n",
        "((a <= b) & (b <= c)).all()"
      ]
    },
    {
      "cell_type": "markdown",
      "source": [
        "---"
      ],
      "metadata": {
        "id": "f5wav9A67sB8"
      }
    },
    {
      "cell_type": "markdown",
      "source": [
        "#### `np.where()`\n",
        "\n",
        "- Syntax: `np.where(condition, [x, y])`\n",
        "- returns an `ndarray` whose elements are chosen from `x` or `y` depending on condition.\n"
      ],
      "metadata": {
        "id": "6B_AGtmdrElA"
      }
    },
    {
      "cell_type": "markdown",
      "source": [
        "Suppose you have a list of product prices, and you want to apply a **10%** discount to all products with prices above **$50**.\n",
        "\n",
        "You can use `np.where` to adjust the prices."
      ],
      "metadata": {
        "id": "0YamHaojBOe4"
      }
    },
    {
      "cell_type": "code",
      "source": [
        "import numpy as np\n",
        "\n",
        "# Product prices\n",
        "prices = np.array([45, 55, 60, 75, 40, 90])\n",
        "\n",
        "# Apply a 10% discount to prices above $50\n",
        "discounted_prices = np.where(prices > 50, prices * 0.9, prices)\n",
        "\n",
        "print(\"Original prices:\", prices)\n",
        "print(\"Discounted prices:\", discounted_prices)"
      ],
      "metadata": {
        "colab": {
          "base_uri": "https://localhost:8080/"
        },
        "id": "vJSPgKnvBWgK",
        "outputId": "c8b074bb-a77f-4ce8-a20e-1751f1fd20fa"
      },
      "execution_count": null,
      "outputs": [
        {
          "output_type": "stream",
          "name": "stdout",
          "text": [
            "Original prices: [45 55 60 75 40 90]\n",
            "Discounted prices: [45.  49.5 54.  67.5 40.  81. ]\n"
          ]
        }
      ]
    },
    {
      "cell_type": "markdown",
      "source": [
        "**Notice that it didn't change the original array.**"
      ],
      "metadata": {
        "id": "AwoTcM7XrwOo"
      }
    },
    {
      "cell_type": "markdown",
      "source": [
        "---"
      ],
      "metadata": {
        "id": "YIvKVpfc8bk-"
      }
    },
    {
      "cell_type": "markdown",
      "source": [
        "## Sorting\n",
        "\n",
        "- `np.sort` returns a sorted copy of an array."
      ],
      "metadata": {
        "id": "FNOwy5R06W5_"
      }
    },
    {
      "cell_type": "code",
      "source": [
        "a = np.array([4, 7, 0, 3, 8, 2, 5, 1, 6, 9])\n",
        "a"
      ],
      "metadata": {
        "colab": {
          "base_uri": "https://localhost:8080/"
        },
        "id": "IftFrK996Zp1",
        "outputId": "9c1169f7-3ebf-4986-8053-a649f0bc3772"
      },
      "execution_count": null,
      "outputs": [
        {
          "output_type": "execute_result",
          "data": {
            "text/plain": [
              "array([4, 7, 0, 3, 8, 2, 5, 1, 6, 9])"
            ]
          },
          "metadata": {},
          "execution_count": 14
        }
      ]
    },
    {
      "cell_type": "code",
      "source": [
        "b = np.sort(a)\n",
        "b"
      ],
      "metadata": {
        "colab": {
          "base_uri": "https://localhost:8080/"
        },
        "id": "2o6FgFBYGE6H",
        "outputId": "a22fe821-54a6-40b0-92a7-137318024674"
      },
      "execution_count": null,
      "outputs": [
        {
          "output_type": "execute_result",
          "data": {
            "text/plain": [
              "array([0, 1, 2, 3, 4, 5, 6, 7, 8, 9])"
            ]
          },
          "metadata": {},
          "execution_count": 15
        }
      ]
    },
    {
      "cell_type": "code",
      "source": [
        "a # no change is reflected in the original array"
      ],
      "metadata": {
        "colab": {
          "base_uri": "https://localhost:8080/"
        },
        "id": "aaGI08DUGIVd",
        "outputId": "9761f45d-9ba8-4efe-c2c3-eee01bbcc949"
      },
      "execution_count": null,
      "outputs": [
        {
          "output_type": "execute_result",
          "data": {
            "text/plain": [
              "array([4, 7, 0, 3, 8, 2, 5, 1, 6, 9])"
            ]
          },
          "metadata": {},
          "execution_count": 16
        }
      ]
    },
    {
      "cell_type": "markdown",
      "source": [
        "#### We can directly call `sort` method on array but it can change the original array as it is an inplace operation."
      ],
      "metadata": {
        "id": "aIw1ADJlGXKu"
      }
    },
    {
      "cell_type": "code",
      "source": [
        "a.sort() # sorting is performed inplace\n",
        "a"
      ],
      "metadata": {
        "id": "9dJVr5Ga6Z1J",
        "colab": {
          "base_uri": "https://localhost:8080/"
        },
        "outputId": "f4d9695a-8123-4990-b730-075d7308c558"
      },
      "execution_count": null,
      "outputs": [
        {
          "output_type": "execute_result",
          "data": {
            "text/plain": [
              "array([0, 1, 2, 3, 4, 5, 6, 7, 8, 9])"
            ]
          },
          "metadata": {},
          "execution_count": 17
        }
      ]
    },
    {
      "cell_type": "markdown",
      "source": [
        "### **Sorting in 2D array**"
      ],
      "metadata": {
        "id": "w19jtNwCDTtA"
      }
    },
    {
      "cell_type": "code",
      "source": [
        "a = np.array([[1,5,3], [2,5,7], [400, 200, 300]])\n",
        "a"
      ],
      "metadata": {
        "colab": {
          "base_uri": "https://localhost:8080/"
        },
        "id": "0DPum9ZcF0uq",
        "outputId": "7df2a546-72f8-42bb-92b5-7520d05bf87c"
      },
      "execution_count": null,
      "outputs": [
        {
          "output_type": "execute_result",
          "data": {
            "text/plain": [
              "array([[  1,   5,   3],\n",
              "       [  2,   5,   7],\n",
              "       [400, 200, 300]])"
            ]
          },
          "metadata": {},
          "execution_count": 18
        }
      ]
    },
    {
      "cell_type": "code",
      "source": [
        "np.sort(a, axis=0) # sorting every column"
      ],
      "metadata": {
        "colab": {
          "base_uri": "https://localhost:8080/"
        },
        "id": "-00Dm4mxGEq_",
        "outputId": "dd5888d4-f663-4424-db1d-de4de5102c1a"
      },
      "execution_count": null,
      "outputs": [
        {
          "output_type": "execute_result",
          "data": {
            "text/plain": [
              "array([[  1,   5,   3],\n",
              "       [  2,   5,   7],\n",
              "       [400, 200, 300]])"
            ]
          },
          "metadata": {},
          "execution_count": 19
        }
      ]
    },
    {
      "cell_type": "code",
      "source": [
        "np.sort(a, axis=1) # sorting every row"
      ],
      "metadata": {
        "colab": {
          "base_uri": "https://localhost:8080/"
        },
        "id": "7IN2bkxXGKQS",
        "outputId": "c4c29dcf-0f9f-463d-8b63-62c64fb5ea94"
      },
      "execution_count": null,
      "outputs": [
        {
          "output_type": "execute_result",
          "data": {
            "text/plain": [
              "array([[  1,   3,   5],\n",
              "       [  2,   5,   7],\n",
              "       [200, 300, 400]])"
            ]
          },
          "metadata": {},
          "execution_count": 20
        }
      ]
    },
    {
      "cell_type": "markdown",
      "source": [
        "**Note**: By default, the `np.sort()` functions sorts along the last axis."
      ],
      "metadata": {
        "id": "IWt-hEJ3GM8a"
      }
    },
    {
      "cell_type": "code",
      "execution_count": null,
      "metadata": {
        "id": "sDLamQo2svND"
      },
      "outputs": [],
      "source": [
        "a = np.array([[23,4,43], [12, 89, 3], [69, 420, 0]])"
      ]
    },
    {
      "cell_type": "code",
      "execution_count": null,
      "metadata": {
        "colab": {
          "base_uri": "https://localhost:8080/"
        },
        "id": "50qiePMYs1vi",
        "outputId": "05030cb5-0c2b-4eb2-f7d1-f5c14a2e9b7f"
      },
      "outputs": [
        {
          "output_type": "execute_result",
          "data": {
            "text/plain": [
              "array([[  4,  23,  43],\n",
              "       [  3,  12,  89],\n",
              "       [  0,  69, 420]])"
            ]
          },
          "metadata": {},
          "execution_count": 22
        }
      ],
      "source": [
        "np.sort(a) # default axis = -1 (last axis)"
      ]
    },
    {
      "cell_type": "markdown",
      "source": [
        "---"
      ],
      "metadata": {
        "id": "s3X1Vd61ECa1"
      }
    },
    {
      "cell_type": "markdown",
      "source": [
        "## **Vectorization**\n",
        "\n",
        "Vectorization in NumPy refers to performing operations on entire arrays or array elements simultaneously, which is significantly faster and more efficient than using explicit loops."
      ],
      "metadata": {
        "id": "x8teaudLR7yL"
      }
    },
    {
      "cell_type": "code",
      "source": [
        "a = np.arange(10)\n",
        "a"
      ],
      "metadata": {
        "colab": {
          "base_uri": "https://localhost:8080/"
        },
        "id": "x-gT1wqBQgLX",
        "outputId": "077b4988-f652-47eb-c8c2-f88e99c86ce3"
      },
      "execution_count": null,
      "outputs": [
        {
          "output_type": "execute_result",
          "data": {
            "text/plain": [
              "array([0, 1, 2, 3, 4, 5, 6, 7, 8, 9])"
            ]
          },
          "metadata": {},
          "execution_count": 23
        }
      ]
    },
    {
      "cell_type": "markdown",
      "source": [
        "**Note:**\n",
        "- 1d np array --> vector\n",
        "- 2d np array --> matrix\n",
        "- 3d onwards --> tensors"
      ],
      "metadata": {
        "id": "bgzV0Cr31Lo-"
      }
    },
    {
      "cell_type": "code",
      "source": [
        "def random_operation(x):\n",
        "    if x % 2 == 0:\n",
        "        x += 2\n",
        "    else:\n",
        "        x -= 2\n",
        "\n",
        "    return x"
      ],
      "metadata": {
        "id": "enWwzxtf6kdR"
      },
      "execution_count": null,
      "outputs": []
    },
    {
      "cell_type": "code",
      "source": [
        "random_operation(a)"
      ],
      "metadata": {
        "colab": {
          "base_uri": "https://localhost:8080/",
          "height": 263
        },
        "id": "TRxHgVLK6mSV",
        "outputId": "7acddd98-7631-4a49-e5fb-9c4e047497cc"
      },
      "execution_count": null,
      "outputs": [
        {
          "output_type": "error",
          "ename": "ValueError",
          "evalue": "The truth value of an array with more than one element is ambiguous. Use a.any() or a.all()",
          "traceback": [
            "\u001b[0;31m---------------------------------------------------------------------------\u001b[0m",
            "\u001b[0;31mValueError\u001b[0m                                Traceback (most recent call last)",
            "\u001b[0;32m<ipython-input-25-83503709589d>\u001b[0m in \u001b[0;36m<cell line: 0>\u001b[0;34m()\u001b[0m\n\u001b[0;32m----> 1\u001b[0;31m \u001b[0mrandom_operation\u001b[0m\u001b[0;34m(\u001b[0m\u001b[0ma\u001b[0m\u001b[0;34m)\u001b[0m\u001b[0;34m\u001b[0m\u001b[0;34m\u001b[0m\u001b[0m\n\u001b[0m",
            "\u001b[0;32m<ipython-input-24-1b21f73a20a9>\u001b[0m in \u001b[0;36mrandom_operation\u001b[0;34m(x)\u001b[0m\n\u001b[1;32m      1\u001b[0m \u001b[0;32mdef\u001b[0m \u001b[0mrandom_operation\u001b[0m\u001b[0;34m(\u001b[0m\u001b[0mx\u001b[0m\u001b[0;34m)\u001b[0m\u001b[0;34m:\u001b[0m\u001b[0;34m\u001b[0m\u001b[0;34m\u001b[0m\u001b[0m\n\u001b[0;32m----> 2\u001b[0;31m     \u001b[0;32mif\u001b[0m \u001b[0mx\u001b[0m \u001b[0;34m%\u001b[0m \u001b[0;36m2\u001b[0m \u001b[0;34m==\u001b[0m \u001b[0;36m0\u001b[0m\u001b[0;34m:\u001b[0m\u001b[0;34m\u001b[0m\u001b[0;34m\u001b[0m\u001b[0m\n\u001b[0m\u001b[1;32m      3\u001b[0m         \u001b[0mx\u001b[0m \u001b[0;34m+=\u001b[0m \u001b[0;36m2\u001b[0m\u001b[0;34m\u001b[0m\u001b[0;34m\u001b[0m\u001b[0m\n\u001b[1;32m      4\u001b[0m     \u001b[0;32melse\u001b[0m\u001b[0;34m:\u001b[0m\u001b[0;34m\u001b[0m\u001b[0;34m\u001b[0m\u001b[0m\n\u001b[1;32m      5\u001b[0m         \u001b[0mx\u001b[0m \u001b[0;34m-=\u001b[0m \u001b[0;36m2\u001b[0m\u001b[0;34m\u001b[0m\u001b[0;34m\u001b[0m\u001b[0m\n",
            "\u001b[0;31mValueError\u001b[0m: The truth value of an array with more than one element is ambiguous. Use a.any() or a.all()"
          ]
        }
      ]
    },
    {
      "cell_type": "code",
      "source": [
        "cool_operation = np.vectorize(random_operation)"
      ],
      "metadata": {
        "id": "PRi1ECg76pjP"
      },
      "execution_count": null,
      "outputs": []
    },
    {
      "cell_type": "code",
      "source": [
        "type(cool_operation)"
      ],
      "metadata": {
        "colab": {
          "base_uri": "https://localhost:8080/",
          "height": 186
        },
        "id": "e9bEfJy96rf8",
        "outputId": "ee4f318d-1564-4503-b6b0-9ff293b3349f"
      },
      "execution_count": null,
      "outputs": [
        {
          "output_type": "execute_result",
          "data": {
            "text/plain": [
              "numpy.vectorize"
            ],
            "text/html": [
              "<div style=\"max-width:800px; border: 1px solid var(--colab-border-color);\"><style>\n",
              "      pre.function-repr-contents {\n",
              "        overflow-x: auto;\n",
              "        padding: 8px 12px;\n",
              "        max-height: 500px;\n",
              "      }\n",
              "\n",
              "      pre.function-repr-contents.function-repr-contents-collapsed {\n",
              "        cursor: pointer;\n",
              "        max-height: 100px;\n",
              "      }\n",
              "    </style>\n",
              "    <pre style=\"white-space: initial; background:\n",
              "         var(--colab-secondary-surface-color); padding: 8px 12px;\n",
              "         border-bottom: 1px solid var(--colab-border-color);\"><b>numpy.vectorize</b><br/>def __call__(*args, **kwargs)</pre><pre class=\"function-repr-contents function-repr-contents-collapsed\" style=\"\"><a class=\"filepath\" style=\"display:none\" href=\"#\">/usr/local/lib/python3.11/dist-packages/numpy/__init__.py</a>vectorize(pyfunc=np._NoValue, otypes=None, doc=None, excluded=None,\n",
              "cache=False, signature=None)\n",
              "\n",
              "Returns an object that acts like pyfunc, but takes arrays as input.\n",
              "\n",
              "Define a vectorized function which takes a nested sequence of objects or\n",
              "numpy arrays as inputs and returns a single numpy array or a tuple of numpy\n",
              "arrays. The vectorized function evaluates `pyfunc` over successive tuples\n",
              "of the input arrays like the python map function, except it uses the\n",
              "broadcasting rules of numpy.\n",
              "\n",
              "The data type of the output of `vectorized` is determined by calling\n",
              "the function with the first element of the input.  This can be avoided\n",
              "by specifying the `otypes` argument.\n",
              "\n",
              "Parameters\n",
              "----------\n",
              "pyfunc : callable, optional\n",
              "    A python function or method.\n",
              "    Can be omitted to produce a decorator with keyword arguments.\n",
              "otypes : str or list of dtypes, optional\n",
              "    The output data type. It must be specified as either a string of\n",
              "    typecode characters or a list of data type specifiers. There should\n",
              "    be one data type specifier for each output.\n",
              "doc : str, optional\n",
              "    The docstring for the function. If None, the docstring will be the\n",
              "    ``pyfunc.__doc__``.\n",
              "excluded : set, optional\n",
              "    Set of strings or integers representing the positional or keyword\n",
              "    arguments for which the function will not be vectorized.  These will be\n",
              "    passed directly to `pyfunc` unmodified.\n",
              "\n",
              "    .. versionadded:: 1.7.0\n",
              "\n",
              "cache : bool, optional\n",
              "    If `True`, then cache the first function call that determines the number\n",
              "    of outputs if `otypes` is not provided.\n",
              "\n",
              "    .. versionadded:: 1.7.0\n",
              "\n",
              "signature : string, optional\n",
              "    Generalized universal function signature, e.g., ``(m,n),(n)-&gt;(m)`` for\n",
              "    vectorized matrix-vector multiplication. If provided, ``pyfunc`` will\n",
              "    be called with (and expected to return) arrays with shapes given by the\n",
              "    size of corresponding core dimensions. By default, ``pyfunc`` is\n",
              "    assumed to take scalars as input and output.\n",
              "\n",
              "    .. versionadded:: 1.12.0\n",
              "\n",
              "Returns\n",
              "-------\n",
              "out : callable\n",
              "    A vectorized function if ``pyfunc`` was provided,\n",
              "    a decorator otherwise.\n",
              "\n",
              "See Also\n",
              "--------\n",
              "frompyfunc : Takes an arbitrary Python function and returns a ufunc\n",
              "\n",
              "Notes\n",
              "-----\n",
              "The `vectorize` function is provided primarily for convenience, not for\n",
              "performance. The implementation is essentially a for loop.\n",
              "\n",
              "If `otypes` is not specified, then a call to the function with the\n",
              "first argument will be used to determine the number of outputs.  The\n",
              "results of this call will be cached if `cache` is `True` to prevent\n",
              "calling the function twice.  However, to implement the cache, the\n",
              "original function must be wrapped which will slow down subsequent\n",
              "calls, so only do this if your function is expensive.\n",
              "\n",
              "The new keyword argument interface and `excluded` argument support\n",
              "further degrades performance.\n",
              "\n",
              "References\n",
              "----------\n",
              ".. [1] :doc:`/reference/c-api/generalized-ufuncs`\n",
              "\n",
              "Examples\n",
              "--------\n",
              "&gt;&gt;&gt; def myfunc(a, b):\n",
              "...     &quot;Return a-b if a&gt;b, otherwise return a+b&quot;\n",
              "...     if a &gt; b:\n",
              "...         return a - b\n",
              "...     else:\n",
              "...         return a + b\n",
              "\n",
              "&gt;&gt;&gt; vfunc = np.vectorize(myfunc)\n",
              "&gt;&gt;&gt; vfunc([1, 2, 3, 4], 2)\n",
              "array([3, 4, 1, 2])\n",
              "\n",
              "The docstring is taken from the input function to `vectorize` unless it\n",
              "is specified:\n",
              "\n",
              "&gt;&gt;&gt; vfunc.__doc__\n",
              "&#x27;Return a-b if a&gt;b, otherwise return a+b&#x27;\n",
              "&gt;&gt;&gt; vfunc = np.vectorize(myfunc, doc=&#x27;Vectorized `myfunc`&#x27;)\n",
              "&gt;&gt;&gt; vfunc.__doc__\n",
              "&#x27;Vectorized `myfunc`&#x27;\n",
              "\n",
              "The output type is determined by evaluating the first element of the input,\n",
              "unless it is specified:\n",
              "\n",
              "&gt;&gt;&gt; out = vfunc([1, 2, 3, 4], 2)\n",
              "&gt;&gt;&gt; type(out[0])\n",
              "&lt;class &#x27;numpy.int64&#x27;&gt;\n",
              "&gt;&gt;&gt; vfunc = np.vectorize(myfunc, otypes=[float])\n",
              "&gt;&gt;&gt; out = vfunc([1, 2, 3, 4], 2)\n",
              "&gt;&gt;&gt; type(out[0])\n",
              "&lt;class &#x27;numpy.float64&#x27;&gt;\n",
              "\n",
              "The `excluded` argument can be used to prevent vectorizing over certain\n",
              "arguments.  This can be useful for array-like arguments of a fixed length\n",
              "such as the coefficients for a polynomial as in `polyval`:\n",
              "\n",
              "&gt;&gt;&gt; def mypolyval(p, x):\n",
              "...     _p = list(p)\n",
              "...     res = _p.pop(0)\n",
              "...     while _p:\n",
              "...         res = res*x + _p.pop(0)\n",
              "...     return res\n",
              "&gt;&gt;&gt; vpolyval = np.vectorize(mypolyval, excluded=[&#x27;p&#x27;])\n",
              "&gt;&gt;&gt; vpolyval(p=[1, 2, 3], x=[0, 1])\n",
              "array([3, 6])\n",
              "\n",
              "Positional arguments may also be excluded by specifying their position:\n",
              "\n",
              "&gt;&gt;&gt; vpolyval.excluded.add(0)\n",
              "&gt;&gt;&gt; vpolyval([1, 2, 3], x=[0, 1])\n",
              "array([3, 6])\n",
              "\n",
              "The `signature` argument allows for vectorizing functions that act on\n",
              "non-scalar arrays of fixed length. For example, you can use it for a\n",
              "vectorized calculation of Pearson correlation coefficient and its p-value:\n",
              "\n",
              "&gt;&gt;&gt; import scipy.stats\n",
              "&gt;&gt;&gt; pearsonr = np.vectorize(scipy.stats.pearsonr,\n",
              "...                 signature=&#x27;(n),(n)-&gt;(),()&#x27;)\n",
              "&gt;&gt;&gt; pearsonr([[0, 1, 2, 3]], [[1, 2, 3, 4], [4, 3, 2, 1]])\n",
              "(array([ 1., -1.]), array([ 0.,  0.]))\n",
              "\n",
              "Or for a vectorized convolution:\n",
              "\n",
              "&gt;&gt;&gt; convolve = np.vectorize(np.convolve, signature=&#x27;(n),(m)-&gt;(k)&#x27;)\n",
              "&gt;&gt;&gt; convolve(np.eye(4), [1, 2, 1])\n",
              "array([[1., 2., 1., 0., 0., 0.],\n",
              "       [0., 1., 2., 1., 0., 0.],\n",
              "       [0., 0., 1., 2., 1., 0.],\n",
              "       [0., 0., 0., 1., 2., 1.]])\n",
              "\n",
              "Decorator syntax is supported.  The decorator can be called as\n",
              "a function to provide keyword arguments:\n",
              "\n",
              "&gt;&gt;&gt; @np.vectorize\n",
              "... def identity(x):\n",
              "...     return x\n",
              "...\n",
              "&gt;&gt;&gt; identity([0, 1, 2])\n",
              "array([0, 1, 2])\n",
              "&gt;&gt;&gt; @np.vectorize(otypes=[float])\n",
              "... def as_float(x):\n",
              "...     return x\n",
              "...\n",
              "&gt;&gt;&gt; as_float([0, 1, 2])\n",
              "array([0., 1., 2.])</pre>\n",
              "      <script>\n",
              "      if (google.colab.kernel.accessAllowed && google.colab.files && google.colab.files.view) {\n",
              "        for (const element of document.querySelectorAll('.filepath')) {\n",
              "          element.style.display = 'block'\n",
              "          element.onclick = (event) => {\n",
              "            event.preventDefault();\n",
              "            event.stopPropagation();\n",
              "            google.colab.files.view(element.textContent, None);\n",
              "          };\n",
              "        }\n",
              "      }\n",
              "      for (const element of document.querySelectorAll('.function-repr-contents')) {\n",
              "        element.onclick = (event) => {\n",
              "          event.preventDefault();\n",
              "          event.stopPropagation();\n",
              "          element.classList.toggle('function-repr-contents-collapsed');\n",
              "        };\n",
              "      }\n",
              "      </script>\n",
              "      </div>"
            ]
          },
          "metadata": {},
          "execution_count": 27
        }
      ]
    },
    {
      "cell_type": "markdown",
      "source": [
        "#### `np.vectorize()`\n",
        "\n",
        "- It is a generalised function for vectorization.\n",
        "- It takes the function and returns an object (which acts like function but can take an array as input and perform the operations)."
      ],
      "metadata": {
        "id": "zIVoBGVtSSGZ"
      }
    },
    {
      "cell_type": "code",
      "source": [
        "cool_operation(a)"
      ],
      "metadata": {
        "id": "cequl6vV6yCs",
        "colab": {
          "base_uri": "https://localhost:8080/"
        },
        "outputId": "0d51588c-30fe-4af4-b692-0253e46c10af"
      },
      "execution_count": null,
      "outputs": [
        {
          "output_type": "execute_result",
          "data": {
            "text/plain": [
              "array([ 2, -1,  4,  1,  6,  3,  8,  5, 10,  7])"
            ]
          },
          "metadata": {},
          "execution_count": 28
        }
      ]
    },
    {
      "cell_type": "markdown",
      "source": [
        "---"
      ],
      "metadata": {
        "id": "4FXcVF7-X21Z"
      }
    },
    {
      "cell_type": "markdown",
      "source": [
        "## **Broadcasting**\n",
        "\n",
        "Broadcasting in NumPy is the automatic and implicit extension of array dimensions to enable element-wise operations between arrays with different shapes."
      ],
      "metadata": {
        "id": "uH4woAtkUjpf"
      }
    },
    {
      "cell_type": "markdown",
      "source": [
        "![bro.jpg](https://d2beiqkhq929f0.cloudfront.net/public_assets/assets/000/047/364/original/download.jpeg?1694345633)"
      ],
      "metadata": {
        "id": "9tw-ZHqBgMfh"
      }
    },
    {
      "cell_type": "markdown",
      "source": [
        "---"
      ],
      "metadata": {
        "id": "ptHmkM-CZDN8"
      }
    },
    {
      "cell_type": "markdown",
      "source": [
        "#### **Case 1:** If dimension in both matrix is equal, element-wise addition will be done."
      ],
      "metadata": {
        "id": "tGTWXdSegmQf"
      }
    },
    {
      "cell_type": "code",
      "source": [
        "a = np.tile(np.arange(0,40,10), (3,1))\n",
        "a"
      ],
      "metadata": {
        "colab": {
          "base_uri": "https://localhost:8080/"
        },
        "id": "2F9ZexFmg-C5",
        "outputId": "efdb6abb-c5fa-4cb1-bf09-0c4c2ba06474"
      },
      "execution_count": null,
      "outputs": [
        {
          "output_type": "execute_result",
          "data": {
            "text/plain": [
              "array([[ 0, 10, 20, 30],\n",
              "       [ 0, 10, 20, 30],\n",
              "       [ 0, 10, 20, 30]])"
            ]
          },
          "metadata": {},
          "execution_count": 29
        }
      ]
    },
    {
      "cell_type": "markdown",
      "source": [
        "**Note:**\n",
        "\n",
        "* `numpy.tile(array, reps)` constructs an array by repeating A the number of times given by reps along each dimension.\n",
        "* `np.tile(array, (repetition_rows, repetition_cols))`\n"
      ],
      "metadata": {
        "id": "kcGU1BAvg9PW"
      }
    },
    {
      "cell_type": "code",
      "source": [
        "a=a.T\n",
        "a"
      ],
      "metadata": {
        "colab": {
          "base_uri": "https://localhost:8080/"
        },
        "id": "6bXgY5u4hNj9",
        "outputId": "e2cd6424-815d-4060-8b6f-2ff3f1362ea2"
      },
      "execution_count": null,
      "outputs": [
        {
          "output_type": "execute_result",
          "data": {
            "text/plain": [
              "array([[ 0,  0,  0],\n",
              "       [10, 10, 10],\n",
              "       [20, 20, 20],\n",
              "       [30, 30, 30]])"
            ]
          },
          "metadata": {},
          "execution_count": 30
        }
      ]
    },
    {
      "cell_type": "code",
      "source": [
        "b = np.tile(np.arange(0,3), (4,1))\n",
        "b"
      ],
      "metadata": {
        "colab": {
          "base_uri": "https://localhost:8080/"
        },
        "id": "LEE7U-RJhQxU",
        "outputId": "77dc8060-1c5d-4f29-ee6f-edb6ef32816a"
      },
      "execution_count": null,
      "outputs": [
        {
          "output_type": "execute_result",
          "data": {
            "text/plain": [
              "array([[0, 1, 2],\n",
              "       [0, 1, 2],\n",
              "       [0, 1, 2],\n",
              "       [0, 1, 2]])"
            ]
          },
          "metadata": {},
          "execution_count": 31
        }
      ]
    },
    {
      "cell_type": "code",
      "source": [
        "print(a.shape, b.shape)"
      ],
      "metadata": {
        "colab": {
          "base_uri": "https://localhost:8080/"
        },
        "id": "Z2HA1zwQiAJr",
        "outputId": "350ef938-3419-4d38-da0d-66754084bd3d"
      },
      "execution_count": null,
      "outputs": [
        {
          "output_type": "stream",
          "name": "stdout",
          "text": [
            "(4, 3) (4, 3)\n"
          ]
        }
      ]
    },
    {
      "cell_type": "markdown",
      "source": [
        "Since a and b have the same shape, they can be added without any issues."
      ],
      "metadata": {
        "id": "ND4gES3jYdxl"
      }
    },
    {
      "cell_type": "code",
      "source": [
        "a+b"
      ],
      "metadata": {
        "colab": {
          "base_uri": "https://localhost:8080/"
        },
        "id": "hMVzueZvhdUJ",
        "outputId": "a10f868d-86e1-40cc-e189-1c0fc438bbcd"
      },
      "execution_count": null,
      "outputs": [
        {
          "output_type": "execute_result",
          "data": {
            "text/plain": [
              "array([[ 0,  1,  2],\n",
              "       [10, 11, 12],\n",
              "       [20, 21, 22],\n",
              "       [30, 31, 32]])"
            ]
          },
          "metadata": {},
          "execution_count": 33
        }
      ]
    },
    {
      "cell_type": "markdown",
      "source": [
        "---"
      ],
      "metadata": {
        "id": "DkqM4BLnZEuR"
      }
    },
    {
      "cell_type": "markdown",
      "source": [
        "#### **Case 2:** Right array should be of 1-D and number of columns should be same of both the arrays and it will automatically do n-tile."
      ],
      "metadata": {
        "id": "xBBX6XmkiF2w"
      }
    },
    {
      "cell_type": "code",
      "source": [
        "a"
      ],
      "metadata": {
        "colab": {
          "base_uri": "https://localhost:8080/"
        },
        "id": "KOoKBgFphdqi",
        "outputId": "9c3aba5a-c15a-434c-f858-0bd22c5a190b"
      },
      "execution_count": null,
      "outputs": [
        {
          "output_type": "execute_result",
          "data": {
            "text/plain": [
              "array([[ 0,  0,  0],\n",
              "       [10, 10, 10],\n",
              "       [20, 20, 20],\n",
              "       [30, 30, 30]])"
            ]
          },
          "metadata": {},
          "execution_count": 34
        }
      ]
    },
    {
      "cell_type": "code",
      "source": [
        "c = np.array([0,1,2])\n",
        "c"
      ],
      "metadata": {
        "colab": {
          "base_uri": "https://localhost:8080/"
        },
        "id": "krGXfJUsiZet",
        "outputId": "7e5c3902-511c-4fe8-cf42-a6eaf4a8f748"
      },
      "execution_count": null,
      "outputs": [
        {
          "output_type": "execute_result",
          "data": {
            "text/plain": [
              "array([0, 1, 2])"
            ]
          },
          "metadata": {},
          "execution_count": 35
        }
      ]
    },
    {
      "cell_type": "code",
      "source": [
        "print(a.shape, c.shape)"
      ],
      "metadata": {
        "colab": {
          "base_uri": "https://localhost:8080/"
        },
        "id": "jKKC4Rd6h79_",
        "outputId": "cf67a308-71b8-4cfe-eeae-11e5bfd5b627"
      },
      "execution_count": null,
      "outputs": [
        {
          "output_type": "stream",
          "name": "stdout",
          "text": [
            "(4, 3) (3,)\n"
          ]
        }
      ]
    },
    {
      "cell_type": "code",
      "source": [
        "a + c"
      ],
      "metadata": {
        "colab": {
          "base_uri": "https://localhost:8080/"
        },
        "id": "LavZZ17ficAj",
        "outputId": "cd124447-58df-4f11-ac6d-209d14eab487"
      },
      "execution_count": null,
      "outputs": [
        {
          "output_type": "execute_result",
          "data": {
            "text/plain": [
              "array([[ 0,  1,  2],\n",
              "       [10, 11, 12],\n",
              "       [20, 21, 22],\n",
              "       [30, 31, 32]])"
            ]
          },
          "metadata": {},
          "execution_count": 37
        }
      ]
    },
    {
      "cell_type": "markdown",
      "source": [
        "- c was broadcasted along rows (vertically)\n",
        "- so that a and c can be made compatible"
      ],
      "metadata": {
        "id": "aC5pv6_fZOM8"
      }
    },
    {
      "cell_type": "markdown",
      "source": [
        "---"
      ],
      "metadata": {
        "id": "T6dcB7I2ZMIO"
      }
    },
    {
      "cell_type": "markdown",
      "source": [
        "#### **Case 3:** If the left array is column matrix (must have only 1 column) and right array is row matrix, then it will do the n-tile such that element wise addition is possible."
      ],
      "metadata": {
        "id": "0KggK5dYimXn"
      }
    },
    {
      "cell_type": "code",
      "source": [
        "d = np.array([0,10,20,30]).reshape(4,1)\n",
        "d"
      ],
      "metadata": {
        "id": "FAbk0MwKDXgO",
        "colab": {
          "base_uri": "https://localhost:8080/"
        },
        "outputId": "011d9a7f-f2d3-4e8e-cef8-e52e0414d695"
      },
      "execution_count": null,
      "outputs": [
        {
          "output_type": "execute_result",
          "data": {
            "text/plain": [
              "array([[ 0],\n",
              "       [10],\n",
              "       [20],\n",
              "       [30]])"
            ]
          },
          "metadata": {},
          "execution_count": 38
        }
      ]
    },
    {
      "cell_type": "code",
      "source": [
        "c = np.array([0,1,2])\n",
        "c"
      ],
      "metadata": {
        "colab": {
          "base_uri": "https://localhost:8080/"
        },
        "id": "hJ2EP73r7-IT",
        "outputId": "ecb08cc6-9865-42f1-bbcd-8cfad58519de"
      },
      "execution_count": null,
      "outputs": [
        {
          "output_type": "execute_result",
          "data": {
            "text/plain": [
              "array([0, 1, 2])"
            ]
          },
          "metadata": {},
          "execution_count": 39
        }
      ]
    },
    {
      "cell_type": "code",
      "source": [
        "print(d.shape, c.shape)"
      ],
      "metadata": {
        "colab": {
          "base_uri": "https://localhost:8080/"
        },
        "id": "-28X0IHgiok7",
        "outputId": "747fdf4e-c11e-4adb-dae6-cfe8b5da88d3"
      },
      "execution_count": null,
      "outputs": [
        {
          "output_type": "stream",
          "name": "stdout",
          "text": [
            "(4, 1) (3,)\n"
          ]
        }
      ]
    },
    {
      "cell_type": "code",
      "source": [
        "d + c"
      ],
      "metadata": {
        "colab": {
          "base_uri": "https://localhost:8080/"
        },
        "id": "lU55ek9oicut",
        "outputId": "e34035b9-7b0a-4e3d-b150-4bc1482f5f91"
      },
      "execution_count": null,
      "outputs": [
        {
          "output_type": "execute_result",
          "data": {
            "text/plain": [
              "array([[ 0,  1,  2],\n",
              "       [10, 11, 12],\n",
              "       [20, 21, 22],\n",
              "       [30, 31, 32]])"
            ]
          },
          "metadata": {},
          "execution_count": 41
        }
      ]
    },
    {
      "cell_type": "markdown",
      "source": [
        "- d was stacked (broadcasted) along columns (horizontally)\n",
        "- c was stacked (broadcasted) along rows (vertically)"
      ],
      "metadata": {
        "id": "0gpqOuOKZVfK"
      }
    },
    {
      "cell_type": "markdown",
      "source": [
        "---"
      ],
      "metadata": {
        "id": "HWap4Le2Zc_t"
      }
    },
    {
      "cell_type": "markdown",
      "source": [
        "**Will broadcasting work in this case?**"
      ],
      "metadata": {
        "id": "0KUAL-YojgXX"
      }
    },
    {
      "cell_type": "code",
      "source": [
        "a = np.arange(8).reshape(2,4)\n",
        "a"
      ],
      "metadata": {
        "colab": {
          "base_uri": "https://localhost:8080/"
        },
        "id": "CfLFLaLbi_jj",
        "outputId": "3c79c2ea-59c8-46d1-d799-085287da0a88"
      },
      "execution_count": null,
      "outputs": [
        {
          "output_type": "execute_result",
          "data": {
            "text/plain": [
              "array([[0, 1, 2, 3],\n",
              "       [4, 5, 6, 7]])"
            ]
          },
          "metadata": {},
          "execution_count": 42
        }
      ]
    },
    {
      "cell_type": "code",
      "source": [
        "b = np.arange(16).reshape(4,4)\n",
        "b"
      ],
      "metadata": {
        "colab": {
          "base_uri": "https://localhost:8080/"
        },
        "id": "dD4BNtCxjc3M",
        "outputId": "47ef12b3-a38a-4459-a3c0-6edd8a5e24c0"
      },
      "execution_count": null,
      "outputs": [
        {
          "output_type": "execute_result",
          "data": {
            "text/plain": [
              "array([[ 0,  1,  2,  3],\n",
              "       [ 4,  5,  6,  7],\n",
              "       [ 8,  9, 10, 11],\n",
              "       [12, 13, 14, 15]])"
            ]
          },
          "metadata": {},
          "execution_count": 43
        }
      ]
    },
    {
      "cell_type": "code",
      "source": [
        "a+b"
      ],
      "metadata": {
        "colab": {
          "base_uri": "https://localhost:8080/",
          "height": 141
        },
        "id": "5ZPQ5gvTje17",
        "outputId": "6f96e4cc-1840-4bc8-c6db-fb567c6689bd"
      },
      "execution_count": null,
      "outputs": [
        {
          "output_type": "error",
          "ename": "ValueError",
          "evalue": "operands could not be broadcast together with shapes (2,4) (4,4) ",
          "traceback": [
            "\u001b[0;31m---------------------------------------------------------------------------\u001b[0m",
            "\u001b[0;31mValueError\u001b[0m                                Traceback (most recent call last)",
            "\u001b[0;32m<ipython-input-44-ca730b97bf8a>\u001b[0m in \u001b[0;36m<cell line: 0>\u001b[0;34m()\u001b[0m\n\u001b[0;32m----> 1\u001b[0;31m \u001b[0ma\u001b[0m\u001b[0;34m+\u001b[0m\u001b[0mb\u001b[0m\u001b[0;34m\u001b[0m\u001b[0;34m\u001b[0m\u001b[0m\n\u001b[0m",
            "\u001b[0;31mValueError\u001b[0m: operands could not be broadcast together with shapes (2,4) (4,4) "
          ]
        }
      ]
    },
    {
      "cell_type": "markdown",
      "source": [
        "#### Broadcasting in 2D Arrays\n",
        "\n",
        "- A + A (same shape)-> Works\n",
        "- A + A (1D) -> Works\n",
        "- A + number -> Works\n",
        "- A + A (different shape but still 2D) -> DOES NOT WORK"
      ],
      "metadata": {
        "id": "cLyev--F8ILT"
      }
    },
    {
      "cell_type": "markdown",
      "source": [
        "**Is broadcasting possible in this case?**"
      ],
      "metadata": {
        "id": "VXLdr-xokGnC"
      }
    },
    {
      "cell_type": "code",
      "source": [
        "A = np.arange(1,10).reshape(3,3)\n",
        "A"
      ],
      "metadata": {
        "colab": {
          "base_uri": "https://localhost:8080/"
        },
        "id": "NEF8O7Y_D1sy",
        "outputId": "0df33f45-3625-4502-f807-33a90b67a0d1"
      },
      "execution_count": null,
      "outputs": [
        {
          "output_type": "execute_result",
          "data": {
            "text/plain": [
              "array([[1, 2, 3],\n",
              "       [4, 5, 6],\n",
              "       [7, 8, 9]])"
            ]
          },
          "metadata": {},
          "execution_count": 45
        }
      ]
    },
    {
      "cell_type": "code",
      "source": [
        "B = np.array([-1, 0, 1])\n",
        "B"
      ],
      "metadata": {
        "colab": {
          "base_uri": "https://localhost:8080/"
        },
        "id": "H0aIJ5AMD_8z",
        "outputId": "ca80e070-8afe-4440-f97a-9679cab2d752"
      },
      "execution_count": null,
      "outputs": [
        {
          "output_type": "execute_result",
          "data": {
            "text/plain": [
              "array([-1,  0,  1])"
            ]
          },
          "metadata": {},
          "execution_count": 46
        }
      ]
    },
    {
      "cell_type": "code",
      "source": [
        "A*B"
      ],
      "metadata": {
        "colab": {
          "base_uri": "https://localhost:8080/"
        },
        "id": "Bu6gazA7EBus",
        "outputId": "360116de-ef22-44e8-cd39-1f46688bc688"
      },
      "execution_count": null,
      "outputs": [
        {
          "output_type": "execute_result",
          "data": {
            "text/plain": [
              "array([[-1,  0,  3],\n",
              "       [-4,  0,  6],\n",
              "       [-7,  0,  9]])"
            ]
          },
          "metadata": {},
          "execution_count": 47
        }
      ]
    },
    {
      "cell_type": "markdown",
      "source": [
        "Yes! Broadcasting is possible for all the operations.\n",
        "\n",
        "\n",
        "\n"
      ],
      "metadata": {
        "id": "AE_htiW4kNY2"
      }
    },
    {
      "cell_type": "markdown",
      "source": [
        "---"
      ],
      "metadata": {
        "id": "Ebf0-AqWaS-n"
      }
    }
  ]
}