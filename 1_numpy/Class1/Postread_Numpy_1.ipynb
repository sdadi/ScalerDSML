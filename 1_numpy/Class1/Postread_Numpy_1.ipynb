{
  "nbformat": 4,
  "nbformat_minor": 0,
  "metadata": {
    "colab": {
      "provenance": [],
      "include_colab_link": true
    },
    "kernelspec": {
      "name": "python3",
      "display_name": "Python 3"
    },
    "language_info": {
      "name": "python"
    }
  },
  "cells": [
    {
      "cell_type": "markdown",
      "metadata": {
        "id": "view-in-github",
        "colab_type": "text"
      },
      "source": [
        "<a href=\"https://colab.research.google.com/github/sdadi/ScalerDSML/blob/main/1_numpy/Class1/Postread_Numpy_1.ipynb\" target=\"_parent\"><img src=\"https://colab.research.google.com/assets/colab-badge.svg\" alt=\"Open In Colab\"/></a>"
      ]
    },
    {
      "cell_type": "markdown",
      "source": [
        "# Numpy 1"
      ],
      "metadata": {
        "id": "_DCL_a8H4VQ6"
      }
    },
    {
      "cell_type": "markdown",
      "source": [
        "## **Introduction to DAV (Data Analysis and Visualization) Module**\n",
        "\n",
        "With this lecture, we're starting the DAV module.\n",
        "\n",
        "It will contain 3 sections -\n",
        "\n",
        "1. DAV-1: Python Libraries\n",
        " - Numpy\n",
        " - Pandas\n",
        " - Matplotlib & Seaborn\n",
        "2. DAV-2: Probability Statistics\n",
        "3. DAV-3: Hypothesis Testing\n",
        "\n",
        "---"
      ],
      "metadata": {
        "id": "JxxBP5IaHcEl"
      }
    },
    {
      "cell_type": "markdown",
      "source": [
        "## **Content**\n",
        "\n",
        "- Introduction to DAV\n",
        "- Python Lists vs Numpy Array\n",
        "  - Importing Numpy\n",
        "- Dimension & Shape\n",
        "- Type Conversion in Numpy Arrays\n",
        "- Indexing & Slicing\n",
        "- Working with 2D arrays (Matrices)\n",
        "  - Transpose\n",
        "  - Indexing\n",
        "  - Slicing\n"
      ],
      "metadata": {
        "id": "1tgAFVm7HaN5"
      }
    },
    {
      "cell_type": "markdown",
      "source": [
        "---"
      ],
      "metadata": {
        "id": "5nAEeLUfZ7pN"
      }
    },
    {
      "cell_type": "markdown",
      "source": [
        "## **Python Lists vs Numpy Arrays**"
      ],
      "metadata": {
        "id": "Bz6rAZHmYKmh"
      }
    },
    {
      "cell_type": "markdown",
      "source": [
        "### **Homogeneity of data**\n",
        "\n",
        "So far, we've been working with Python lists, that can have **heterogenous data**."
      ],
      "metadata": {
        "id": "FMpGyvueZ_Z4"
      }
    },
    {
      "cell_type": "code",
      "execution_count": null,
      "metadata": {
        "colab": {
          "base_uri": "https://localhost:8080/"
        },
        "id": "1X1EBh-1GYny",
        "outputId": "df0b6da4-161c-43f2-f561-b7c842668233"
      },
      "outputs": [
        {
          "output_type": "execute_result",
          "data": {
            "text/plain": [
              "[1, 2, 3, 'Michael', True]"
            ]
          },
          "metadata": {},
          "execution_count": 1
        }
      ],
      "source": [
        "a = [1, 2, 3, \"Michael\", True]\n",
        "a"
      ]
    },
    {
      "cell_type": "markdown",
      "source": [
        "Because of this hetergenity, in Python lists, the data elements are not stored together in the memory (RAM).\n",
        "\n",
        "- Each element is stored in a different location.\n",
        "- Only the address of each of the element will be stored together.\n",
        "- So, a list is actually just referencing to these different locations, in order to access the actual element.\n",
        "\n",
        "\\\n",
        "On the other hand, Numpy only stores **homogenous data**, i.e. a numpy array cannot contain mixed data types.\n",
        "\n",
        "It will either\n",
        "- ONLY contain integers\n",
        "- ONLY contain floats\n",
        "- ONLY contain characters\n",
        "\n",
        "... and so on.\n",
        "\n",
        "Because of this, we can now store these different data items together, as they are of the same type.\n",
        "\n",
        "<img src=\"https://d2beiqkhq929f0.cloudfront.net/public_assets/assets/000/063/995/original/download.png?1706870327\" width=700 height=175>"
      ],
      "metadata": {
        "id": "AwuAqcJ-aP4X"
      }
    },
    {
      "cell_type": "markdown",
      "source": [
        "### **Speed**\n",
        "\n",
        "Programming languages can also be slow or fast.\n",
        "\n",
        "In fact,\n",
        "- Java is a decently fast language.\n",
        "- Python is a slow language.\n",
        "- C, one of the earliest available languages, is super fast.\n",
        "\n",
        "This is because C has concepts like memory allocation, pointers, etc.\n",
        "\n",
        "#### **How is this possible?**\n",
        "\n",
        "With Numpy, though we will be writing our code using Python, but behind the scene, all the code is written in the **C programming language**, to make it faster.\n",
        "\n",
        "Because of this, a Numpy Array will be significantly faster than a Python List in performing the same operation.\n",
        "\n",
        "This is very important to us, because in data science, we deal with huge amount of data.\n"
      ],
      "metadata": {
        "id": "ofsHYKHJhY10"
      }
    },
    {
      "cell_type": "markdown",
      "source": [
        "### **Properties**\n",
        "\n",
        "- **In-built Functions**\n",
        " - For a Python list `a`, we had in-built functions like `.sum(a)`, etc.\n",
        " - For NumPy arrays also, we will have such in-built functions.\n",
        "\n",
        "- **Slicing**\n",
        " - Recall that we were able to perform list slicing.\n",
        " - All of that is still applicable here.\n"
      ],
      "metadata": {
        "id": "9AagO_eolXUc"
      }
    },
    {
      "cell_type": "markdown",
      "source": [
        "## **Importing Numpy**"
      ],
      "metadata": {
        "id": "UY6WIVY8n6X4"
      }
    },
    {
      "cell_type": "markdown",
      "source": [
        "Recall how we used to import a module/library in Python.\n",
        "\n",
        "* In order to use Python Lists, we do not need to import anything extra.\n",
        "* However to use Numpy Arrays, we need to import it into our environment, as it is a Library.\n",
        "\n",
        "Generally, we do so while using the alias **`np`**."
      ],
      "metadata": {
        "id": "ll9piOiLpDNp"
      }
    },
    {
      "cell_type": "code",
      "source": [
        "import numpy as np"
      ],
      "metadata": {
        "id": "W4fH6TVKrOXv"
      },
      "execution_count": null,
      "outputs": []
    },
    {
      "cell_type": "markdown",
      "source": [
        "**Note:**\n",
        "- In this terminal, we will already have numpy installed as we are working on Google Colab\n",
        "- However, when working on an evironment that does not have it installed, you'll have to install it the first time working.\n",
        "- This can be done with the command: `!pip install numpy`"
      ],
      "metadata": {
        "id": "N-HSp-TVsRK8"
      }
    },
    {
      "cell_type": "markdown",
      "source": [
        "---"
      ],
      "metadata": {
        "id": "ioZX-lrPf8oE"
      }
    },
    {
      "cell_type": "markdown",
      "source": [
        "## Why Use NumPy? — Speed & Simplicity\n",
        "\n",
        "Let’s say you have a list of numbers and you want to square each element:"
      ],
      "metadata": {
        "id": "5neOzzGAca1W"
      }
    },
    {
      "cell_type": "code",
      "source": [
        "a = [1, 2, 3, 4, 5]\n",
        "res = [i**2 for i in a]\n",
        "print(res)"
      ],
      "metadata": {
        "colab": {
          "base_uri": "https://localhost:8080/"
        },
        "id": "iyBYEL8cceym",
        "outputId": "cfc7e273-79ee-4c73-b040-201fbf2e6186"
      },
      "execution_count": null,
      "outputs": [
        {
          "output_type": "stream",
          "name": "stdout",
          "text": [
            "[1, 4, 9, 16, 25]\n"
          ]
        }
      ]
    },
    {
      "cell_type": "markdown",
      "source": [
        "This works, but let’s try the same with NumPy:"
      ],
      "metadata": {
        "id": "OSSuqXhOciIw"
      }
    },
    {
      "cell_type": "code",
      "source": [
        "import numpy as np\n",
        "b = np.array(a)\n",
        "print(b**2)  # Output: [ 1  4  9 16 25]"
      ],
      "metadata": {
        "colab": {
          "base_uri": "https://localhost:8080/"
        },
        "id": "Ywnx4Ul7ckfd",
        "outputId": "22e72745-f0eb-4cab-ba04-16f3853aec39"
      },
      "execution_count": null,
      "outputs": [
        {
          "output_type": "stream",
          "name": "stdout",
          "text": [
            "[ 1  4  9 16 25]\n"
          ]
        }
      ]
    },
    {
      "cell_type": "markdown",
      "source": [
        "Much cleaner — no loops needed, and the syntax is concise."
      ],
      "metadata": {
        "id": "atcncG1bcqmD"
      }
    },
    {
      "cell_type": "markdown",
      "source": [
        "### Speed Comparison\n",
        "Let’s square 1 million numbers using both methods:"
      ],
      "metadata": {
        "id": "p1CHQg6xcyAm"
      }
    },
    {
      "cell_type": "code",
      "source": [
        "l = range(1000000)\n",
        "%timeit [i**2 for i in l]  # ~300 ms\n",
        "\n",
        "l_np = np.array(range(1000000))\n",
        "%timeit l_np**2            # ~900 µs"
      ],
      "metadata": {
        "colab": {
          "base_uri": "https://localhost:8080/"
        },
        "id": "-cP0IsHJcn-n",
        "outputId": "65baefdc-f268-4181-be78-bf0816a2e9a1"
      },
      "execution_count": null,
      "outputs": [
        {
          "output_type": "stream",
          "name": "stdout",
          "text": [
            "92.8 ms ± 23.6 ms per loop (mean ± std. dev. of 7 runs, 10 loops each)\n",
            "971 µs ± 45.4 µs per loop (mean ± std. dev. of 7 runs, 1000 loops each)\n"
          ]
        }
      ]
    },
    {
      "cell_type": "markdown",
      "source": [
        "NumPy is nearly 100x faster!"
      ],
      "metadata": {
        "id": "huSAaDdec8n7"
      }
    },
    {
      "cell_type": "markdown",
      "source": [
        "**Why is NumPy faster?**\n",
        "\n",
        "- NumPy arrays are homogeneous and densely packed in memory.\n",
        "- Under the hood, NumPy uses C code (not Python loops).\n",
        "- It can also do vectorized operations and even use parallel processing.\n",
        "\n",
        "\n"
      ],
      "metadata": {
        "id": "UzfsoL5HdLMf"
      }
    },
    {
      "cell_type": "markdown",
      "source": [
        "---"
      ],
      "metadata": {
        "id": "PrzD-DbZbsMU"
      }
    },
    {
      "cell_type": "markdown",
      "metadata": {
        "id": "fK_MHP7WtJop"
      },
      "source": [
        "## **Dimensions and Shape**\n",
        "\n",
        "**We can get the dimension of an array using the `ndim` property.**"
      ]
    },
    {
      "cell_type": "code",
      "execution_count": null,
      "metadata": {
        "colab": {
          "base_uri": "https://localhost:8080/"
        },
        "id": "7rA5dpMBtfDa",
        "outputId": "ed866404-378b-4aa9-c4d8-e6816c9f21db"
      },
      "outputs": [
        {
          "output_type": "execute_result",
          "data": {
            "text/plain": [
              "1"
            ]
          },
          "metadata": {},
          "execution_count": 13
        }
      ],
      "source": [
        "arr1 = np.array(range(1000000))\n",
        "arr1.ndim"
      ]
    },
    {
      "cell_type": "markdown",
      "metadata": {
        "id": "ZSjrXVdxtp5o"
      },
      "source": [
        "**Numpy arrays have another property called `shape` that tells us number of elements across every dimension.**"
      ]
    },
    {
      "cell_type": "code",
      "execution_count": null,
      "metadata": {
        "colab": {
          "base_uri": "https://localhost:8080/"
        },
        "id": "Ig_lYE13tzGF",
        "outputId": "7b05e013-18ea-40dc-e68d-99b39086d31d"
      },
      "outputs": [
        {
          "output_type": "execute_result",
          "data": {
            "text/plain": [
              "(1000000,)"
            ]
          },
          "metadata": {},
          "execution_count": 14
        }
      ],
      "source": [
        "arr1.shape"
      ]
    },
    {
      "cell_type": "markdown",
      "source": [
        "This means that the array `arr1` has 1000000 elements in a single dimension.\n",
        "\n",
        "Let's take another example to understand `shape` and `ndim` better."
      ],
      "metadata": {
        "id": "5d6nt4T83zLt"
      }
    },
    {
      "cell_type": "code",
      "source": [
        "arr2 = np.array([[1, 2, 3], [4, 5, 6], [10, 11, 12]])\n",
        "print(arr2)"
      ],
      "metadata": {
        "colab": {
          "base_uri": "https://localhost:8080/"
        },
        "id": "mT-j3dn933XM",
        "outputId": "4e77739a-7622-46fc-9c21-d1f6cb006d61"
      },
      "execution_count": null,
      "outputs": [
        {
          "output_type": "stream",
          "name": "stdout",
          "text": [
            "[[ 1  2  3]\n",
            " [ 4  5  6]\n",
            " [10 11 12]]\n"
          ]
        }
      ]
    },
    {
      "cell_type": "markdown",
      "source": [
        "**What do you think will be the shape & dimension of this array?**"
      ],
      "metadata": {
        "id": "3nY1fxUR4AFS"
      }
    },
    {
      "cell_type": "code",
      "source": [
        "arr2.ndim"
      ],
      "metadata": {
        "colab": {
          "base_uri": "https://localhost:8080/"
        },
        "id": "XJGsC_I44EM2",
        "outputId": "0e77fdb3-f9d6-4e31-8a55-9d165074f6d8"
      },
      "execution_count": null,
      "outputs": [
        {
          "output_type": "execute_result",
          "data": {
            "text/plain": [
              "2"
            ]
          },
          "metadata": {},
          "execution_count": 16
        }
      ]
    },
    {
      "cell_type": "code",
      "source": [
        "arr2.shape"
      ],
      "metadata": {
        "id": "EleOLJFJ4Jej",
        "outputId": "7c12812e-34ee-44d1-a341-8ab65e32d364",
        "colab": {
          "base_uri": "https://localhost:8080/"
        }
      },
      "execution_count": null,
      "outputs": [
        {
          "output_type": "execute_result",
          "data": {
            "text/plain": [
              "(3, 3)"
            ]
          },
          "metadata": {},
          "execution_count": 17
        }
      ]
    },
    {
      "cell_type": "markdown",
      "source": [
        "`ndim` specifies the number of dimensions of the array i.e. 1D (1), 2D (2), 3D (3) and so on.\n",
        "\n",
        "`shape` returns the exact shape in all dimensions, that is (3,3) which implies 3 in axis 0 and 3 in axis 1."
      ],
      "metadata": {
        "id": "9v15Dy-j1wcs"
      }
    },
    {
      "cell_type": "markdown",
      "source": [
        "<img src=\"https://drive.google.com/uc?id=1GSV_E1CaCc_Ur7pWJ-Kqv0VKvBRwByR1\">"
      ],
      "metadata": {
        "id": "KB5kqONgv4l7"
      }
    },
    {
      "cell_type": "markdown",
      "source": [
        "---"
      ],
      "metadata": {
        "id": "K454rvx3o98z"
      }
    },
    {
      "cell_type": "markdown",
      "metadata": {
        "id": "RrUfgYqt1t0P"
      },
      "source": [
        "### **`np.arange()`**\n",
        "\n",
        "Let's create some sequences in  Numpy.\n",
        "\n",
        "We can pass **starting** point, **ending** point (not included in the array) and **step-size**.\n",
        "\n",
        "**Syntax:**\n",
        "- `arange(start, end, step)`"
      ]
    },
    {
      "cell_type": "code",
      "execution_count": null,
      "metadata": {
        "id": "Qc0UF4y91t0R",
        "outputId": "e5fa76b9-6d6e-49a8-c3e3-84554afdc404",
        "colab": {
          "base_uri": "https://localhost:8080/"
        }
      },
      "outputs": [
        {
          "output_type": "execute_result",
          "data": {
            "text/plain": [
              "array([1, 3])"
            ]
          },
          "metadata": {},
          "execution_count": 19
        }
      ],
      "source": [
        "arr2_step = np.arange(1, 5, 2)\n",
        "arr2_step"
      ]
    },
    {
      "cell_type": "markdown",
      "metadata": {
        "id": "lVvk-l5I1t0S"
      },
      "source": [
        "`np.arange()` behaves in the same way as `range()` function.\n",
        "\n",
        "**But then why not call it np.range?**\n",
        "\n",
        "- In `np.arange()`, we can pass a **floating point number** as **step-size**."
      ]
    },
    {
      "cell_type": "code",
      "execution_count": null,
      "metadata": {
        "id": "XJE3CQmk1t0S",
        "outputId": "ec39fb20-2af0-40ce-e45d-fdc150a60259",
        "colab": {
          "base_uri": "https://localhost:8080/"
        }
      },
      "outputs": [
        {
          "output_type": "execute_result",
          "data": {
            "text/plain": [
              "array([1. , 1.5, 2. , 2.5, 3. , 3.5, 4. , 4.5])"
            ]
          },
          "metadata": {},
          "execution_count": 20
        }
      ],
      "source": [
        "arr3 = np.arange(1, 5, 0.5)\n",
        "arr3"
      ]
    },
    {
      "cell_type": "markdown",
      "source": [
        "---"
      ],
      "metadata": {
        "id": "XNM1IaMrdxTZ"
      }
    },
    {
      "cell_type": "markdown",
      "metadata": {
        "id": "iXVpxIL01t0c"
      },
      "source": [
        "## **Type Conversion in Numpy Arrays**\n",
        "\n",
        "For this, let's pass a **float** as one of the values in a **numpy array**."
      ]
    },
    {
      "cell_type": "markdown",
      "source": [
        "Let’s see what happens when we mix data types:"
      ],
      "metadata": {
        "id": "JxAh-J-qd7DT"
      }
    },
    {
      "cell_type": "code",
      "source": [
        "import numpy as np\n",
        "\n",
        "arr1 = np.array([1, 2, 3, 4.0])\n",
        "print(arr1)\n"
      ],
      "metadata": {
        "colab": {
          "base_uri": "https://localhost:8080/"
        },
        "id": "iZay61sDd47S",
        "outputId": "f2dca770-032b-4e8d-8718-c4094f98bf7c"
      },
      "execution_count": null,
      "outputs": [
        {
          "output_type": "stream",
          "name": "stdout",
          "text": [
            "[1. 2. 3. 4.]\n"
          ]
        }
      ]
    },
    {
      "cell_type": "markdown",
      "source": [
        "Notice that int was automatically upcasted to float.\n",
        "- Because a numpy array can only store **homogenous data** i.e. values of one data type."
      ],
      "metadata": {
        "id": "m-FPPLDTd_uI"
      }
    },
    {
      "cell_type": "markdown",
      "source": [
        "What about strings and numbers together?"
      ],
      "metadata": {
        "id": "5q_Te5ZjeCbr"
      }
    },
    {
      "cell_type": "code",
      "source": [
        "arr2 = np.array([\"Harry Potter\", 1, 2, 3])\n",
        "print(arr2)"
      ],
      "metadata": {
        "colab": {
          "base_uri": "https://localhost:8080/"
        },
        "id": "sGje9_M7d9zZ",
        "outputId": "0f33c678-b724-48b6-f959-b0fcd7d3f7de"
      },
      "execution_count": null,
      "outputs": [
        {
          "output_type": "stream",
          "name": "stdout",
          "text": [
            "['Harry Potter' '1' '2' '3']\n"
          ]
        }
      ]
    },
    {
      "cell_type": "markdown",
      "source": [
        "Everything is converted to strings (char type)"
      ],
      "metadata": {
        "id": "amGKeXR2eGhf"
      }
    },
    {
      "cell_type": "markdown",
      "source": [
        "Specifying Data Types with dtype"
      ],
      "metadata": {
        "id": "YwuXKsegeIva"
      }
    },
    {
      "cell_type": "markdown",
      "source": [
        "There's a `dtype` parameter in the `np.array()` function.\n",
        "\n",
        "**What if we set the `dtype` of array containing `integer` values to `float`?**"
      ],
      "metadata": {
        "id": "vog9QPxt-Uis"
      }
    },
    {
      "cell_type": "code",
      "source": [
        "arr3 = np.array([1, 2, 3, 4], dtype='float')\n",
        "print(arr3)"
      ],
      "metadata": {
        "colab": {
          "base_uri": "https://localhost:8080/"
        },
        "id": "ODYL8XfxeFDM",
        "outputId": "5834bae7-32ac-4807-b5f5-3c6d54c96113"
      },
      "execution_count": null,
      "outputs": [
        {
          "output_type": "stream",
          "name": "stdout",
          "text": [
            "[1. 2. 3. 4.]\n"
          ]
        }
      ]
    },
    {
      "cell_type": "markdown",
      "source": [
        "You can control the data type directly using the dtype argument."
      ],
      "metadata": {
        "id": "32u22QvzeNhe"
      }
    },
    {
      "cell_type": "markdown",
      "source": [
        "**Question:** What will happen in the following code?"
      ],
      "metadata": {
        "id": "R8apZ50V8Fcx"
      }
    },
    {
      "cell_type": "code",
      "source": [
        "np.array([\"Shivank\", \"Bipin\"], dtype=float)\n",
        "# Raises ValueError: could not convert string to float"
      ],
      "metadata": {
        "colab": {
          "base_uri": "https://localhost:8080/",
          "height": 158
        },
        "id": "ptIl09TdeLQe",
        "outputId": "7f561651-956b-4a9e-886f-9850b7e5f293"
      },
      "execution_count": null,
      "outputs": [
        {
          "output_type": "error",
          "ename": "ValueError",
          "evalue": "could not convert string to float: 'Shivank'",
          "traceback": [
            "\u001b[0;31m---------------------------------------------------------------------------\u001b[0m",
            "\u001b[0;31mValueError\u001b[0m                                Traceback (most recent call last)",
            "\u001b[0;32m<ipython-input-7-74fc490aa93b>\u001b[0m in \u001b[0;36m<cell line: 0>\u001b[0;34m()\u001b[0m\n\u001b[0;32m----> 1\u001b[0;31m \u001b[0mnp\u001b[0m\u001b[0;34m.\u001b[0m\u001b[0marray\u001b[0m\u001b[0;34m(\u001b[0m\u001b[0;34m[\u001b[0m\u001b[0;34m\"Shivank\"\u001b[0m\u001b[0;34m,\u001b[0m \u001b[0;34m\"Bipin\"\u001b[0m\u001b[0;34m]\u001b[0m\u001b[0;34m,\u001b[0m \u001b[0mdtype\u001b[0m\u001b[0;34m=\u001b[0m\u001b[0mfloat\u001b[0m\u001b[0;34m)\u001b[0m\u001b[0;34m\u001b[0m\u001b[0;34m\u001b[0m\u001b[0m\n\u001b[0m\u001b[1;32m      2\u001b[0m \u001b[0;31m# Raises ValueError: could not convert string to float\u001b[0m\u001b[0;34m\u001b[0m\u001b[0;34m\u001b[0m\u001b[0m\n",
            "\u001b[0;31mValueError\u001b[0m: could not convert string to float: 'Shivank'"
          ]
        }
      ]
    },
    {
      "cell_type": "markdown",
      "source": [
        "Since it is not possible to convert strings of alphabets to floats, it will naturally return an Error.\n",
        "\n",
        "\\\n",
        "We can also convert the data type with the `astype()` method."
      ],
      "metadata": {
        "id": "q3aQbo7D8VKi"
      }
    },
    {
      "cell_type": "code",
      "source": [
        "arr4 = np.array([10, 20, 30])\n",
        "arr4 = arr4.astype('float64')\n",
        "print(arr4)"
      ],
      "metadata": {
        "colab": {
          "base_uri": "https://localhost:8080/"
        },
        "id": "83Dedj7qeQnY",
        "outputId": "fe137d96-45f0-45c7-b4a7-8a920b381b93"
      },
      "execution_count": null,
      "outputs": [
        {
          "output_type": "stream",
          "name": "stdout",
          "text": [
            "[10. 20. 30.]\n"
          ]
        }
      ]
    },
    {
      "cell_type": "markdown",
      "source": [
        "---"
      ],
      "metadata": {
        "id": "nltCgbZAeuU9"
      }
    },
    {
      "cell_type": "markdown",
      "metadata": {
        "id": "istW-j-21t08"
      },
      "source": [
        "## **Indexing**\n",
        "\n",
        "- Similar to Python lists"
      ]
    },
    {
      "cell_type": "code",
      "execution_count": null,
      "metadata": {
        "colab": {
          "base_uri": "https://localhost:8080/"
        },
        "id": "9dEG23Dt1t09",
        "outputId": "1ecd2a3d-8815-473e-c5b0-0ab5e5edd034"
      },
      "outputs": [
        {
          "output_type": "execute_result",
          "data": {
            "text/plain": [
              "array([ 0,  1,  2,  3,  4,  5,  6,  7,  8,  9, 10, 11])"
            ]
          },
          "metadata": {},
          "execution_count": 29
        }
      ],
      "source": [
        "m1 = np.arange(12)\n",
        "m1"
      ]
    },
    {
      "cell_type": "code",
      "source": [
        "m1[-1] # negative indexing in numpy array"
      ],
      "metadata": {
        "id": "TDcsMtzcCqiW",
        "colab": {
          "base_uri": "https://localhost:8080/"
        },
        "outputId": "71883d12-7124-4a3a-8f90-4f960cd86b69"
      },
      "execution_count": null,
      "outputs": [
        {
          "output_type": "execute_result",
          "data": {
            "text/plain": [
              "11"
            ]
          },
          "metadata": {},
          "execution_count": 31
        }
      ]
    },
    {
      "cell_type": "markdown",
      "metadata": {
        "id": "q5xBtDrAb0Fa"
      },
      "source": [
        "You can also use list of indexes in numpy."
      ]
    },
    {
      "cell_type": "code",
      "execution_count": null,
      "metadata": {
        "id": "heVDJRWAcNGz"
      },
      "outputs": [],
      "source": [
        "m1 = np.array([100,200,300,400,500,600])"
      ]
    },
    {
      "cell_type": "code",
      "execution_count": null,
      "metadata": {
        "id": "58Wyc-GIb8Ct",
        "colab": {
          "base_uri": "https://localhost:8080/"
        },
        "outputId": "0d2df29e-e1d6-4c6c-cc2e-e326a88020e9"
      },
      "outputs": [
        {
          "output_type": "execute_result",
          "data": {
            "text/plain": [
              "array([300, 400, 500, 200, 300, 300])"
            ]
          },
          "metadata": {},
          "execution_count": 33
        }
      ],
      "source": [
        "m1[[2,3,4,1,2,2]]"
      ]
    },
    {
      "cell_type": "markdown",
      "metadata": {
        "id": "zHudz61AcGWO"
      },
      "source": [
        "Did you notice how single index can be repeated multiple times when giving list of indexes?\n",
        "\n",
        "**Note:**\n",
        "- If you want to extract multiple indices, you need to use two sets of square brackets `[[ ]]`\n",
        "  - Otherwise, you will get an error.\n",
        "- Because it is only expecting a single index.\n",
        "- For multiple indices, you need to pass them as a list.\n",
        "\n"
      ]
    },
    {
      "cell_type": "code",
      "source": [
        "m1[2,3,4,1,2,2]"
      ],
      "metadata": {
        "colab": {
          "base_uri": "https://localhost:8080/",
          "height": 179
        },
        "id": "bC8KFXQ-_8hR",
        "outputId": "583f1cd4-fadd-4b67-fac1-c5e0e24547dc"
      },
      "execution_count": null,
      "outputs": [
        {
          "output_type": "error",
          "ename": "IndexError",
          "evalue": "too many indices for array: array is 1-dimensional, but 6 were indexed",
          "traceback": [
            "\u001b[0;31m---------------------------------------------------------------------------\u001b[0m",
            "\u001b[0;31mIndexError\u001b[0m                                Traceback (most recent call last)",
            "\u001b[0;32m<ipython-input-34-0ec34089038e>\u001b[0m in \u001b[0;36m<cell line: 1>\u001b[0;34m()\u001b[0m\n\u001b[0;32m----> 1\u001b[0;31m \u001b[0mm1\u001b[0m\u001b[0;34m[\u001b[0m\u001b[0;36m2\u001b[0m\u001b[0;34m,\u001b[0m\u001b[0;36m3\u001b[0m\u001b[0;34m,\u001b[0m\u001b[0;36m4\u001b[0m\u001b[0;34m,\u001b[0m\u001b[0;36m1\u001b[0m\u001b[0;34m,\u001b[0m\u001b[0;36m2\u001b[0m\u001b[0;34m,\u001b[0m\u001b[0;36m2\u001b[0m\u001b[0;34m]\u001b[0m\u001b[0;34m\u001b[0m\u001b[0;34m\u001b[0m\u001b[0m\n\u001b[0m",
            "\u001b[0;31mIndexError\u001b[0m: too many indices for array: array is 1-dimensional, but 6 were indexed"
          ]
        }
      ]
    },
    {
      "cell_type": "markdown",
      "source": [
        "---"
      ],
      "metadata": {
        "id": "IAWDDVviVZvI"
      }
    },
    {
      "cell_type": "markdown",
      "metadata": {
        "id": "cKmm6fX21t1A"
      },
      "source": [
        "## **Slicing**\n",
        "\n",
        "- Similar to Python lists"
      ]
    },
    {
      "cell_type": "code",
      "execution_count": null,
      "metadata": {
        "id": "zQmukPpor5dz",
        "colab": {
          "base_uri": "https://localhost:8080/"
        },
        "outputId": "ccec05bf-13f1-4cf8-b97f-8fa2c2ff32b9"
      },
      "outputs": [
        {
          "output_type": "execute_result",
          "data": {
            "text/plain": [
              "array([ 1,  2,  3,  4,  5,  6,  7,  8,  9, 10])"
            ]
          },
          "metadata": {},
          "execution_count": 35
        }
      ],
      "source": [
        "m1 = np.array([1, 2, 3, 4, 5, 6, 7, 8, 9, 10])\n",
        "m1"
      ]
    },
    {
      "cell_type": "code",
      "execution_count": null,
      "metadata": {
        "id": "TtS5ZlBer8AE",
        "colab": {
          "base_uri": "https://localhost:8080/"
        },
        "outputId": "55f15a1d-4055-4fce-a0e3-795da4f92392"
      },
      "outputs": [
        {
          "output_type": "execute_result",
          "data": {
            "text/plain": [
              "array([1, 2, 3, 4, 5])"
            ]
          },
          "metadata": {},
          "execution_count": 36
        }
      ],
      "source": [
        "m1[:5]"
      ]
    },
    {
      "cell_type": "markdown",
      "source": [
        "**Question:** What'll be output of `arr[-5:-1]` ?"
      ],
      "metadata": {
        "id": "QhJMZ0Uh435M"
      }
    },
    {
      "cell_type": "code",
      "source": [
        "m1[-5:-1]"
      ],
      "metadata": {
        "colab": {
          "base_uri": "https://localhost:8080/"
        },
        "id": "qe64pELf5BeC",
        "outputId": "ac502128-784d-47f2-a1a2-fa9f3749ce31"
      },
      "execution_count": null,
      "outputs": [
        {
          "output_type": "execute_result",
          "data": {
            "text/plain": [
              "array([6, 7, 8, 9])"
            ]
          },
          "metadata": {},
          "execution_count": 37
        }
      ]
    },
    {
      "cell_type": "markdown",
      "source": [
        "**Question:** What'll be the output for `arr[-5:-1: -1]` ?\n",
        "\n",
        "\n"
      ],
      "metadata": {
        "id": "Ple-vZjn6S4I"
      }
    },
    {
      "cell_type": "code",
      "source": [
        "m1[-5: -1: -1]"
      ],
      "metadata": {
        "colab": {
          "base_uri": "https://localhost:8080/"
        },
        "id": "732v2Zd26a6K",
        "outputId": "de3ee7cf-b487-46e7-ae7f-495496f05c13"
      },
      "execution_count": null,
      "outputs": [
        {
          "output_type": "execute_result",
          "data": {
            "text/plain": [
              "array([], dtype=int64)"
            ]
          },
          "metadata": {},
          "execution_count": 38
        }
      ]
    },
    {
      "cell_type": "markdown",
      "source": [
        "---"
      ],
      "metadata": {
        "id": "d_vUy6tZVYS4"
      }
    },
    {
      "cell_type": "markdown",
      "metadata": {
        "id": "ZA0uqFwD1t0i"
      },
      "source": [
        "## **Working with 2D arrays (Matrices)**\n",
        "\n",
        "Let's create an array -"
      ]
    },
    {
      "cell_type": "code",
      "source": [
        "import numpy as np\n",
        "a = np.array(range(16))\n",
        "a"
      ],
      "metadata": {
        "id": "vSpQigQK2tiu",
        "colab": {
          "base_uri": "https://localhost:8080/"
        },
        "outputId": "63963101-9a39-4810-e31b-b82bb6558f0a"
      },
      "execution_count": null,
      "outputs": [
        {
          "output_type": "execute_result",
          "data": {
            "text/plain": [
              "array([ 0,  1,  2,  3,  4,  5,  6,  7,  8,  9, 10, 11, 12, 13, 14, 15])"
            ]
          },
          "metadata": {},
          "execution_count": 1
        }
      ]
    },
    {
      "cell_type": "markdown",
      "source": [
        "What will be it's shape and dimensions?"
      ],
      "metadata": {
        "id": "bkxY5uWw2yJM"
      }
    },
    {
      "cell_type": "code",
      "source": [
        "a.shape"
      ],
      "metadata": {
        "id": "xGUz0CeR205W",
        "colab": {
          "base_uri": "https://localhost:8080/"
        },
        "outputId": "2a1e11df-1b0a-408f-dec6-2de1ff607675"
      },
      "execution_count": null,
      "outputs": [
        {
          "output_type": "execute_result",
          "data": {
            "text/plain": [
              "(16,)"
            ]
          },
          "metadata": {},
          "execution_count": 2
        }
      ]
    },
    {
      "cell_type": "code",
      "source": [
        "a.ndim"
      ],
      "metadata": {
        "id": "lxiYpPm821v4",
        "colab": {
          "base_uri": "https://localhost:8080/"
        },
        "outputId": "b3d8fe5e-6304-4168-80d9-0cef04b95325"
      },
      "execution_count": null,
      "outputs": [
        {
          "output_type": "execute_result",
          "data": {
            "text/plain": [
              "1"
            ]
          },
          "metadata": {},
          "execution_count": 3
        }
      ]
    },
    {
      "cell_type": "markdown",
      "source": [
        "#### How can we convert this array to a 2-dimensional array?\n",
        "\n",
        "- Using `reshape()`\n",
        "\n",
        "For a 2D array, we will have to specify the followings :-\n",
        "- **First argument** is **no. of rows**\n",
        "- **Second argument** is **no. of columns**\n",
        "\n",
        "\\\n",
        "Let's try converting it into a `8x2` array."
      ],
      "metadata": {
        "id": "_bKNUgUV29xt"
      }
    },
    {
      "cell_type": "code",
      "source": [
        "a.reshape(8, 2)"
      ],
      "metadata": {
        "id": "PDSN2LQ73K2y",
        "colab": {
          "base_uri": "https://localhost:8080/"
        },
        "outputId": "61f7fda5-1b62-483d-8d43-da2f3a9f4733"
      },
      "execution_count": null,
      "outputs": [
        {
          "output_type": "execute_result",
          "data": {
            "text/plain": [
              "array([[ 0,  1],\n",
              "       [ 2,  3],\n",
              "       [ 4,  5],\n",
              "       [ 6,  7],\n",
              "       [ 8,  9],\n",
              "       [10, 11],\n",
              "       [12, 13],\n",
              "       [14, 15]])"
            ]
          },
          "metadata": {},
          "execution_count": 4
        }
      ]
    },
    {
      "cell_type": "code",
      "source": [
        "a.reshape(4, 5)"
      ],
      "metadata": {
        "id": "v9joeJ45397X",
        "colab": {
          "base_uri": "https://localhost:8080/",
          "height": 179
        },
        "outputId": "375ab0dc-4821-4241-ad44-49176e832a50"
      },
      "execution_count": null,
      "outputs": [
        {
          "output_type": "error",
          "ename": "ValueError",
          "evalue": "cannot reshape array of size 16 into shape (4,5)",
          "traceback": [
            "\u001b[0;31m---------------------------------------------------------------------------\u001b[0m",
            "\u001b[0;31mValueError\u001b[0m                                Traceback (most recent call last)",
            "\u001b[0;32m<ipython-input-7-05ad01dfd0f5>\u001b[0m in \u001b[0;36m<cell line: 1>\u001b[0;34m()\u001b[0m\n\u001b[0;32m----> 1\u001b[0;31m \u001b[0ma\u001b[0m\u001b[0;34m.\u001b[0m\u001b[0mreshape\u001b[0m\u001b[0;34m(\u001b[0m\u001b[0;36m4\u001b[0m\u001b[0;34m,\u001b[0m \u001b[0;36m5\u001b[0m\u001b[0;34m)\u001b[0m\u001b[0;34m\u001b[0m\u001b[0;34m\u001b[0m\u001b[0m\n\u001b[0m",
            "\u001b[0;31mValueError\u001b[0m: cannot reshape array of size 16 into shape (4,5)"
          ]
        }
      ]
    },
    {
      "cell_type": "markdown",
      "source": [
        "**This will give an Error. Why?**\n",
        "\n",
        "* We have 16 elements in `a`, but `reshape(4, 5)` is trying to fill in `4x5 = 20` elements.\n",
        "* Therefore, whatever the shape we're trying to reshape to, must be able to incorporate the number of elements that we have.\n"
      ],
      "metadata": {
        "id": "OypYvUPA4ECF"
      }
    },
    {
      "cell_type": "code",
      "source": [
        "a.reshape(8, -1)"
      ],
      "metadata": {
        "id": "Zgd6V6vv5kda",
        "colab": {
          "base_uri": "https://localhost:8080/"
        },
        "outputId": "46773afd-0761-46c0-a6c9-87369abc0137"
      },
      "execution_count": null,
      "outputs": [
        {
          "output_type": "execute_result",
          "data": {
            "text/plain": [
              "array([[ 0,  1],\n",
              "       [ 2,  3],\n",
              "       [ 4,  5],\n",
              "       [ 6,  7],\n",
              "       [ 8,  9],\n",
              "       [10, 11],\n",
              "       [12, 13],\n",
              "       [14, 15]])"
            ]
          },
          "metadata": {},
          "execution_count": 8
        }
      ]
    },
    {
      "cell_type": "markdown",
      "source": [
        "Notice that Python automatically figured out what should be the replacement of `-1` argument, given that the first argument is `8`.\n",
        "\n",
        "We can also put `-1` as the first argument. As long as one argument is given, it will calculate the other one."
      ],
      "metadata": {
        "id": "RJnnrtBo5pBJ"
      }
    },
    {
      "cell_type": "markdown",
      "source": [
        "**What if we pass both args as `-1`?**"
      ],
      "metadata": {
        "id": "uJatBMOL6Yi2"
      }
    },
    {
      "cell_type": "code",
      "source": [
        "a.reshape(-1, -1)"
      ],
      "metadata": {
        "id": "q4q_XsYF6a5X",
        "colab": {
          "base_uri": "https://localhost:8080/",
          "height": 179
        },
        "outputId": "3cded09d-abc4-4267-e31c-529d012b9977"
      },
      "execution_count": null,
      "outputs": [
        {
          "output_type": "error",
          "ename": "ValueError",
          "evalue": "can only specify one unknown dimension",
          "traceback": [
            "\u001b[0;31m---------------------------------------------------------------------------\u001b[0m",
            "\u001b[0;31mValueError\u001b[0m                                Traceback (most recent call last)",
            "\u001b[0;32m<ipython-input-9-decf4fe03d74>\u001b[0m in \u001b[0;36m<cell line: 1>\u001b[0;34m()\u001b[0m\n\u001b[0;32m----> 1\u001b[0;31m \u001b[0ma\u001b[0m\u001b[0;34m.\u001b[0m\u001b[0mreshape\u001b[0m\u001b[0;34m(\u001b[0m\u001b[0;34m-\u001b[0m\u001b[0;36m1\u001b[0m\u001b[0;34m,\u001b[0m \u001b[0;34m-\u001b[0m\u001b[0;36m1\u001b[0m\u001b[0;34m)\u001b[0m\u001b[0;34m\u001b[0m\u001b[0;34m\u001b[0m\u001b[0m\n\u001b[0m",
            "\u001b[0;31mValueError\u001b[0m: can only specify one unknown dimension"
          ]
        }
      ]
    },
    {
      "cell_type": "markdown",
      "source": [
        "- You need to give at least one dimension."
      ],
      "metadata": {
        "id": "sfrLS-286e0J"
      }
    },
    {
      "cell_type": "markdown",
      "source": [
        "Let's save `a` as a `8 x 2` array (matrix) for now."
      ],
      "metadata": {
        "id": "TDTV9SuI6qjx"
      }
    },
    {
      "cell_type": "code",
      "source": [
        "a = a.reshape(8, 2)"
      ],
      "metadata": {
        "id": "qfjR4Qkm7Em1"
      },
      "execution_count": null,
      "outputs": []
    },
    {
      "cell_type": "markdown",
      "source": [
        "**What will be the length of `a`?**\n",
        "\n",
        "* It will be 8, since it contains 8 lists as it's elements.\n",
        "* Each of these lists have 2 elements, but that's a different thing.\n",
        "\n",
        "**Explanation: len(nd array) will give you the magnitude of first dimension**"
      ],
      "metadata": {
        "id": "UiQG1oTr7G8S"
      }
    },
    {
      "cell_type": "code",
      "source": [
        "len(a)"
      ],
      "metadata": {
        "id": "Xjw05oaw7Kwq",
        "colab": {
          "base_uri": "https://localhost:8080/"
        },
        "outputId": "cf9882cb-0c2f-4775-80c1-64afe902e587"
      },
      "execution_count": null,
      "outputs": [
        {
          "output_type": "execute_result",
          "data": {
            "text/plain": [
              "8"
            ]
          },
          "metadata": {},
          "execution_count": 11
        }
      ]
    },
    {
      "cell_type": "code",
      "source": [
        "len(a[0])"
      ],
      "metadata": {
        "id": "JQ7bC6iP7xyA",
        "colab": {
          "base_uri": "https://localhost:8080/"
        },
        "outputId": "0bde792c-7761-4ecc-de87-d9513692a4ab"
      },
      "execution_count": null,
      "outputs": [
        {
          "output_type": "execute_result",
          "data": {
            "text/plain": [
              "2"
            ]
          },
          "metadata": {},
          "execution_count": 12
        }
      ]
    },
    {
      "cell_type": "markdown",
      "source": [
        "---"
      ],
      "metadata": {
        "id": "oXP_5Y77z94h"
      }
    },
    {
      "cell_type": "markdown",
      "source": [
        "### **Transpose**\n",
        "\n",
        "Let's create a 2D numpy array."
      ],
      "metadata": {
        "id": "amN9RGI8-K1m"
      }
    },
    {
      "cell_type": "code",
      "source": [
        "a = np.arange(12).reshape(3,4)\n",
        "a"
      ],
      "metadata": {
        "id": "bsTwx_OX3LX7",
        "colab": {
          "base_uri": "https://localhost:8080/"
        },
        "outputId": "a6ceb366-5308-4ddf-afce-98b86eee2bb0"
      },
      "execution_count": null,
      "outputs": [
        {
          "output_type": "execute_result",
          "data": {
            "text/plain": [
              "array([[ 0,  1,  2,  3],\n",
              "       [ 4,  5,  6,  7],\n",
              "       [ 8,  9, 10, 11]])"
            ]
          },
          "metadata": {},
          "execution_count": 13
        }
      ]
    },
    {
      "cell_type": "code",
      "source": [
        "a.shape"
      ],
      "metadata": {
        "id": "Q8xKsZpA-0mZ",
        "colab": {
          "base_uri": "https://localhost:8080/"
        },
        "outputId": "3e20bf05-deaa-4937-c6a5-1bc8f70bbb9a"
      },
      "execution_count": null,
      "outputs": [
        {
          "output_type": "execute_result",
          "data": {
            "text/plain": [
              "(3, 4)"
            ]
          },
          "metadata": {},
          "execution_count": 14
        }
      ]
    },
    {
      "cell_type": "markdown",
      "source": [
        "There is another operation on a multi-dimensional array, known as **Transpose**.\n",
        "\n",
        "It basically means that the no. of rows is interchanged by no. of cols, and vice-versa."
      ],
      "metadata": {
        "id": "cRh-_qre-12v"
      }
    },
    {
      "cell_type": "code",
      "source": [
        "a.T"
      ],
      "metadata": {
        "id": "5hUMv3_j_I7t",
        "colab": {
          "base_uri": "https://localhost:8080/"
        },
        "outputId": "157aa097-68a7-430f-8dd4-1dc639a2ab26"
      },
      "execution_count": null,
      "outputs": [
        {
          "output_type": "execute_result",
          "data": {
            "text/plain": [
              "array([[ 0,  4,  8],\n",
              "       [ 1,  5,  9],\n",
              "       [ 2,  6, 10],\n",
              "       [ 3,  7, 11]])"
            ]
          },
          "metadata": {},
          "execution_count": 15
        }
      ]
    },
    {
      "cell_type": "markdown",
      "source": [
        "Let's verify the shape of this transpose array -"
      ],
      "metadata": {
        "id": "J9PM0x94_SIB"
      }
    },
    {
      "cell_type": "code",
      "source": [
        "a.T.shape"
      ],
      "metadata": {
        "id": "HaPJaL2S_VC5",
        "colab": {
          "base_uri": "https://localhost:8080/"
        },
        "outputId": "f386b154-3c49-452e-e335-cfdf0016bb89"
      },
      "execution_count": null,
      "outputs": [
        {
          "output_type": "execute_result",
          "data": {
            "text/plain": [
              "(4, 3)"
            ]
          },
          "metadata": {},
          "execution_count": 16
        }
      ]
    },
    {
      "cell_type": "markdown",
      "source": [
        "---"
      ],
      "metadata": {
        "id": "6zBJAobk0Gcw"
      }
    },
    {
      "cell_type": "markdown",
      "source": [
        "### Indexing in NumPy 2D Arrays\n",
        "Just like Python lists, NumPy supports intuitive indexing for multi-dimensional arrays — but with enhanced flexibility and speed."
      ],
      "metadata": {
        "id": "4A4-YZrRgyGh"
      }
    },
    {
      "cell_type": "markdown",
      "source": [
        "<img src = https://d2beiqkhq929f0.cloudfront.net/public_assets/assets/000/054/693/original/2dnp.png?1697949471 height = \"600\" width = \"700\">"
      ],
      "metadata": {
        "id": "cRfvG6dX1tw4"
      }
    },
    {
      "cell_type": "code",
      "source": [
        "a = np.array([[1, 2, 3],\n",
        "              [4, 5, 6],\n",
        "              [7, 8, 9]])\n"
      ],
      "metadata": {
        "id": "Ax7N1ZimgsII"
      },
      "execution_count": null,
      "outputs": []
    },
    {
      "cell_type": "markdown",
      "source": [
        "You can access elements in row, column format:"
      ],
      "metadata": {
        "id": "0oOpUk-lhCtw"
      }
    },
    {
      "cell_type": "code",
      "source": [
        "a[1, 2]     # Output: 6 (2nd row, 3rd column)"
      ],
      "metadata": {
        "colab": {
          "base_uri": "https://localhost:8080/"
        },
        "id": "SmjRb1i3g4Dy",
        "outputId": "9389d894-51a9-4fba-cd67-02a5dcc4bbb3"
      },
      "execution_count": null,
      "outputs": [
        {
          "output_type": "execute_result",
          "data": {
            "text/plain": [
              "np.int64(6)"
            ]
          },
          "metadata": {},
          "execution_count": 11
        }
      ]
    },
    {
      "cell_type": "code",
      "source": [
        "a[1][2]     # Works the same way"
      ],
      "metadata": {
        "colab": {
          "base_uri": "https://localhost:8080/"
        },
        "id": "tK8zZLSihLCD",
        "outputId": "71564033-a4dd-45a3-df8f-1e35dc669379"
      },
      "execution_count": null,
      "outputs": [
        {
          "output_type": "execute_result",
          "data": {
            "text/plain": [
              "np.int64(6)"
            ]
          },
          "metadata": {},
          "execution_count": 12
        }
      ]
    },
    {
      "cell_type": "markdown",
      "source": [
        "NumPy supports both comma-based and nested indexing."
      ],
      "metadata": {
        "id": "scTdFhS8hIt6"
      }
    },
    {
      "cell_type": "code",
      "execution_count": null,
      "metadata": {
        "id": "ygqRIP93AJ6d",
        "colab": {
          "base_uri": "https://localhost:8080/"
        },
        "outputId": "24079e4a-c8f8-4b5f-a94c-47c4efdbb793"
      },
      "outputs": [
        {
          "output_type": "execute_result",
          "data": {
            "text/plain": [
              "array([[1, 2, 3],\n",
              "       [4, 5, 6],\n",
              "       [7, 8, 9]])"
            ]
          },
          "metadata": {},
          "execution_count": 14
        }
      ],
      "source": [
        "m1 = np.arange(1,10).reshape((3,3))\n",
        "m1"
      ]
    },
    {
      "cell_type": "markdown",
      "metadata": {
        "id": "0mPY3gu8AJ6d"
      },
      "source": [
        "**What will be the output of this?**"
      ]
    },
    {
      "cell_type": "code",
      "execution_count": null,
      "metadata": {
        "id": "TfCUl6xpAJ6e",
        "colab": {
          "base_uri": "https://localhost:8080/"
        },
        "outputId": "a742df3e-ad1c-4829-e32f-cc4fd51d0ae9"
      },
      "outputs": [
        {
          "output_type": "execute_result",
          "data": {
            "text/plain": [
              "5"
            ]
          },
          "metadata": {},
          "execution_count": 21
        }
      ],
      "source": [
        "m1[1, 1] # m1[row,column]"
      ]
    },
    {
      "cell_type": "markdown",
      "metadata": {
        "id": "4Rcl57a1AJ6e"
      },
      "source": [
        "We saw how we can use list of indexes in numpy array."
      ]
    },
    {
      "cell_type": "code",
      "execution_count": null,
      "metadata": {
        "id": "4H11tcw8AJ6e"
      },
      "outputs": [],
      "source": [
        "m1 = np.array([100,200,300,400,500,600])"
      ]
    },
    {
      "cell_type": "markdown",
      "source": [
        "**Will this work now?**"
      ],
      "metadata": {
        "id": "CaGAhBl9APdz"
      }
    },
    {
      "cell_type": "code",
      "source": [
        "m1[2, 3]"
      ],
      "metadata": {
        "id": "tqqBoqwMASPo",
        "colab": {
          "base_uri": "https://localhost:8080/",
          "height": 179
        },
        "outputId": "f139ef3b-725f-425e-859d-c6c5c1a8b3b6"
      },
      "execution_count": null,
      "outputs": [
        {
          "output_type": "error",
          "ename": "IndexError",
          "evalue": "too many indices for array: array is 1-dimensional, but 2 were indexed",
          "traceback": [
            "\u001b[0;31m---------------------------------------------------------------------------\u001b[0m",
            "\u001b[0;31mIndexError\u001b[0m                                Traceback (most recent call last)",
            "\u001b[0;32m<ipython-input-23-963ce94bbe14>\u001b[0m in \u001b[0;36m<cell line: 1>\u001b[0;34m()\u001b[0m\n\u001b[0;32m----> 1\u001b[0;31m \u001b[0mm1\u001b[0m\u001b[0;34m[\u001b[0m\u001b[0;36m2\u001b[0m\u001b[0;34m,\u001b[0m \u001b[0;36m3\u001b[0m\u001b[0;34m]\u001b[0m\u001b[0;34m\u001b[0m\u001b[0;34m\u001b[0m\u001b[0m\n\u001b[0m",
            "\u001b[0;31mIndexError\u001b[0m: too many indices for array: array is 1-dimensional, but 2 were indexed"
          ]
        }
      ]
    },
    {
      "cell_type": "markdown",
      "source": [
        "**Note:**\n",
        "- Since `m1` is a 1D array, this will not work.\n",
        "- This is because there are no row and column entity here.\n",
        "\n",
        "Therefore, you cannot use the same syntax for 1D arrays, as you did with 2D arrays, and vice-versa.\n",
        "\n",
        "\\\n",
        "However with a little tweak in this code, we can access elements of `m1` at different positions/indices."
      ],
      "metadata": {
        "id": "9lvKzSZCAYK6"
      }
    },
    {
      "cell_type": "code",
      "source": [
        "m1[[2, 3]]"
      ],
      "metadata": {
        "id": "lw0FGQ16Aws8",
        "colab": {
          "base_uri": "https://localhost:8080/"
        },
        "outputId": "aba86707-6020-4387-9eab-b1928927f827"
      },
      "execution_count": null,
      "outputs": [
        {
          "output_type": "execute_result",
          "data": {
            "text/plain": [
              "array([300, 400])"
            ]
          },
          "metadata": {},
          "execution_count": 24
        }
      ]
    },
    {
      "cell_type": "markdown",
      "metadata": {
        "id": "_UnBC4OMBf7J"
      },
      "source": [
        "#### **How will you print the diagonal elements of the following 2D array?**"
      ]
    },
    {
      "cell_type": "code",
      "source": [
        "m1"
      ],
      "metadata": {
        "colab": {
          "base_uri": "https://localhost:8080/"
        },
        "id": "1zBWAREehmy_",
        "outputId": "2aa6d550-4ce8-46c0-daea-552414542334"
      },
      "execution_count": null,
      "outputs": [
        {
          "output_type": "execute_result",
          "data": {
            "text/plain": [
              "array([[1, 2, 3],\n",
              "       [4, 5, 6],\n",
              "       [7, 8, 9]])"
            ]
          },
          "metadata": {},
          "execution_count": 15
        }
      ]
    },
    {
      "cell_type": "code",
      "execution_count": null,
      "metadata": {
        "id": "-EXDg4fGBf7Q",
        "colab": {
          "base_uri": "https://localhost:8080/"
        },
        "outputId": "5c40a0fc-2cb3-4f9b-da73-686916444ee9"
      },
      "outputs": [
        {
          "output_type": "execute_result",
          "data": {
            "text/plain": [
              "array([1, 5, 9])"
            ]
          },
          "metadata": {},
          "execution_count": 16
        }
      ],
      "source": [
        "m1[[0,1,2],[0,1,2]] # picking up element (0,0), (1,1) and (2,2)"
      ]
    },
    {
      "cell_type": "markdown",
      "source": [
        "When list of indexes is provided for both rows and cols, for example: `m1[[0,1,2],[0,1,2]]`\n",
        "\n",
        "It selects individual elements i.e. `m1[0][0], m1[1][1] and m2[2][2]`.\n",
        "\n",
        "\n"
      ],
      "metadata": {
        "id": "q6Y4kqzHB4lB"
      }
    },
    {
      "cell_type": "markdown",
      "source": [
        "---"
      ],
      "metadata": {
        "id": "jzUWqTLA1KBF"
      }
    },
    {
      "cell_type": "markdown",
      "metadata": {
        "id": "m2T7w-82hvCP"
      },
      "source": [
        "## **Slicing in 2D arrays**\n",
        "\n",
        "- We need to **provide two slice ranges**, one for **row** and one for **column**.\n",
        "- We can also **mix Indexing and Slicing**"
      ]
    },
    {
      "cell_type": "code",
      "execution_count": null,
      "metadata": {
        "colab": {
          "base_uri": "https://localhost:8080/"
        },
        "outputId": "d334ca54-b4e7-40cc-eac8-15421b3f05ff",
        "id": "q2kU-CvnhvCQ"
      },
      "outputs": [
        {
          "output_type": "execute_result",
          "data": {
            "text/plain": [
              "array([[ 0,  1,  2,  3],\n",
              "       [ 4,  5,  6,  7],\n",
              "       [ 8,  9, 10, 11]])"
            ]
          },
          "metadata": {},
          "execution_count": 27
        }
      ],
      "source": [
        "m1 = np.arange(12).reshape(3,4)\n",
        "m1"
      ]
    },
    {
      "cell_type": "code",
      "execution_count": null,
      "metadata": {
        "colab": {
          "base_uri": "https://localhost:8080/"
        },
        "outputId": "fca90b7b-451b-429f-a47d-e64e8b56a1c8",
        "id": "mppkbNmIhvCQ"
      },
      "outputs": [
        {
          "output_type": "execute_result",
          "data": {
            "text/plain": [
              "array([[0, 1, 2, 3],\n",
              "       [4, 5, 6, 7]])"
            ]
          },
          "metadata": {},
          "execution_count": 28
        }
      ],
      "source": [
        "m1[:2] # gives first two rows"
      ]
    },
    {
      "cell_type": "markdown",
      "source": [
        "#### **How can we get columns from a 2D array?**"
      ],
      "metadata": {
        "id": "HmvTpXb5HW7j"
      }
    },
    {
      "cell_type": "code",
      "source": [
        "m1[:, :2] # gives first two columns"
      ],
      "metadata": {
        "id": "Tx28EXFXHaX1",
        "colab": {
          "base_uri": "https://localhost:8080/"
        },
        "outputId": "0338dc38-f85a-48f7-fae0-08fd58832a31"
      },
      "execution_count": null,
      "outputs": [
        {
          "output_type": "execute_result",
          "data": {
            "text/plain": [
              "array([[0, 1],\n",
              "       [4, 5],\n",
              "       [8, 9]])"
            ]
          },
          "metadata": {},
          "execution_count": 29
        }
      ]
    },
    {
      "cell_type": "code",
      "source": [
        "m1[:, 1:3] # gives 2nd and 3rd col"
      ],
      "metadata": {
        "id": "njPEUiS4E5nP",
        "colab": {
          "base_uri": "https://localhost:8080/"
        },
        "outputId": "b26d1129-350f-485b-8bc9-5313e171e292"
      },
      "execution_count": null,
      "outputs": [
        {
          "output_type": "execute_result",
          "data": {
            "text/plain": [
              "array([[ 1,  2],\n",
              "       [ 5,  6],\n",
              "       [ 9, 10]])"
            ]
          },
          "metadata": {},
          "execution_count": 30
        }
      ]
    },
    {
      "cell_type": "markdown",
      "source": [
        "---"
      ],
      "metadata": {
        "id": "-UF9Xv_G2J0x"
      }
    }
  ]
}